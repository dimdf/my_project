{
 "cells": [
  {
   "cell_type": "markdown",
   "metadata": {},
   "source": [
    "<h1>Table of Contents<span class=\"tocSkip\"></span></h1>\n",
    "<div class=\"toc\"><ul class=\"toc-item\"><li><span><a href=\"#Описание-проекта\" data-toc-modified-id=\"Описание-проекта-1\"><span class=\"toc-item-num\">1&nbsp;&nbsp;</span>Описание проекта</a></span></li><li><span><a href=\"#Обзор-данных\" data-toc-modified-id=\"Обзор-данных-2\"><span class=\"toc-item-num\">2&nbsp;&nbsp;</span>Обзор данных</a></span></li><li><span><a href=\"#Предобработка-данных\" data-toc-modified-id=\"Предобработка-данных-3\"><span class=\"toc-item-num\">3&nbsp;&nbsp;</span>Предобработка данных</a></span></li><li><span><a href=\"#Категоризация\" data-toc-modified-id=\"Категоризация-4\"><span class=\"toc-item-num\">4&nbsp;&nbsp;</span>Категоризация</a></span></li><li><span><a href=\"#Исследовательский-анализ-данных\" data-toc-modified-id=\"Исследовательский-анализ-данных-5\"><span class=\"toc-item-num\">5&nbsp;&nbsp;</span>Исследовательский анализ данных</a></span></li><li><span><a href=\"#Проверка-статистических-гипотез\" data-toc-modified-id=\"Проверка-статистических-гипотез-6\"><span class=\"toc-item-num\">6&nbsp;&nbsp;</span>Проверка статистических гипотез</a></span></li><li><span><a href=\"#Выводы\" data-toc-modified-id=\"Выводы-7\"><span class=\"toc-item-num\">7&nbsp;&nbsp;</span>Выводы</a></span></li></ul></div>"
   ]
  },
  {
   "cell_type": "markdown",
   "metadata": {},
   "source": [
    "## Описание проекта"
   ]
  },
  {
   "cell_type": "markdown",
   "metadata": {},
   "source": [
    "**Цель проекта - выделить портреты клиентов, которые склонны уходить из банка.** \n",
    "\n",
    "Перед нами стоят следующие задачи:\n",
    "- Проанализировать клиентов банка \n",
    "- Сформулировать и проверить статистические гипотезы\n",
    "\n"
   ]
  },
  {
   "cell_type": "markdown",
   "metadata": {},
   "source": [
    "## Обзор данных"
   ]
  },
  {
   "cell_type": "markdown",
   "metadata": {},
   "source": [
    "**Импортируем необходимые библиотеки**"
   ]
  },
  {
   "cell_type": "code",
   "execution_count": 62,
   "metadata": {},
   "outputs": [],
   "source": [
    "import pandas as pd\n",
    "import matplotlib.pyplot as plt\n",
    "import os\n",
    "import seaborn as sns\n",
    "import numpy as np\n",
    "from scipy import stats as st\n",
    "import warnings\n",
    "warnings.filterwarnings(action='ignore')\n",
    "import math as mth"
   ]
  },
  {
   "cell_type": "markdown",
   "metadata": {},
   "source": [
    "**Загрузим наши данные**"
   ]
  },
  {
   "cell_type": "code",
   "execution_count": 63,
   "metadata": {},
   "outputs": [],
   "source": [
    "pth1 = '/datasets/bank_dataset.csv'\n",
    "pth2 = 'bank_dataset.csv'\n",
    "\n",
    "if os.path.exists(pth1):\n",
    "    df = pd.read_csv(pth1)\n",
    "elif os.path.exists(pth2):\n",
    "    df = pd.read_csv(pth2)\n",
    "else:\n",
    "    print('Something is wrong')"
   ]
  },
  {
   "cell_type": "markdown",
   "metadata": {},
   "source": [
    "**Выведим на экран наш датасет**"
   ]
  },
  {
   "cell_type": "code",
   "execution_count": 64,
   "metadata": {},
   "outputs": [
    {
     "data": {
      "text/html": [
       "<div>\n",
       "<style scoped>\n",
       "    .dataframe tbody tr th:only-of-type {\n",
       "        vertical-align: middle;\n",
       "    }\n",
       "\n",
       "    .dataframe tbody tr th {\n",
       "        vertical-align: top;\n",
       "    }\n",
       "\n",
       "    .dataframe thead th {\n",
       "        text-align: right;\n",
       "    }\n",
       "</style>\n",
       "<table border=\"1\" class=\"dataframe\">\n",
       "  <thead>\n",
       "    <tr style=\"text-align: right;\">\n",
       "      <th></th>\n",
       "      <th>userid</th>\n",
       "      <th>score</th>\n",
       "      <th>City</th>\n",
       "      <th>Gender</th>\n",
       "      <th>Age</th>\n",
       "      <th>Objects</th>\n",
       "      <th>Balance</th>\n",
       "      <th>Products</th>\n",
       "      <th>CreditCard</th>\n",
       "      <th>Loyalty</th>\n",
       "      <th>estimated_salary</th>\n",
       "      <th>Churn</th>\n",
       "    </tr>\n",
       "  </thead>\n",
       "  <tbody>\n",
       "    <tr>\n",
       "      <th>0</th>\n",
       "      <td>15677338</td>\n",
       "      <td>619</td>\n",
       "      <td>Ярославль</td>\n",
       "      <td>Ж</td>\n",
       "      <td>42</td>\n",
       "      <td>2</td>\n",
       "      <td>NaN</td>\n",
       "      <td>1</td>\n",
       "      <td>1</td>\n",
       "      <td>1</td>\n",
       "      <td>101348.88</td>\n",
       "      <td>1</td>\n",
       "    </tr>\n",
       "    <tr>\n",
       "      <th>1</th>\n",
       "      <td>15690047</td>\n",
       "      <td>608</td>\n",
       "      <td>Рыбинск</td>\n",
       "      <td>Ж</td>\n",
       "      <td>41</td>\n",
       "      <td>1</td>\n",
       "      <td>83807.86</td>\n",
       "      <td>1</td>\n",
       "      <td>0</td>\n",
       "      <td>1</td>\n",
       "      <td>112542.58</td>\n",
       "      <td>0</td>\n",
       "    </tr>\n",
       "    <tr>\n",
       "      <th>2</th>\n",
       "      <td>15662040</td>\n",
       "      <td>502</td>\n",
       "      <td>Ярославль</td>\n",
       "      <td>Ж</td>\n",
       "      <td>42</td>\n",
       "      <td>8</td>\n",
       "      <td>159660.80</td>\n",
       "      <td>3</td>\n",
       "      <td>1</td>\n",
       "      <td>0</td>\n",
       "      <td>113931.57</td>\n",
       "      <td>1</td>\n",
       "    </tr>\n",
       "    <tr>\n",
       "      <th>3</th>\n",
       "      <td>15744090</td>\n",
       "      <td>699</td>\n",
       "      <td>Ярославль</td>\n",
       "      <td>Ж</td>\n",
       "      <td>39</td>\n",
       "      <td>1</td>\n",
       "      <td>NaN</td>\n",
       "      <td>2</td>\n",
       "      <td>0</td>\n",
       "      <td>0</td>\n",
       "      <td>93826.63</td>\n",
       "      <td>0</td>\n",
       "    </tr>\n",
       "    <tr>\n",
       "      <th>4</th>\n",
       "      <td>15780624</td>\n",
       "      <td>850</td>\n",
       "      <td>Рыбинск</td>\n",
       "      <td>Ж</td>\n",
       "      <td>43</td>\n",
       "      <td>2</td>\n",
       "      <td>125510.82</td>\n",
       "      <td>1</td>\n",
       "      <td>1</td>\n",
       "      <td>1</td>\n",
       "      <td>79084.10</td>\n",
       "      <td>0</td>\n",
       "    </tr>\n",
       "  </tbody>\n",
       "</table>\n",
       "</div>"
      ],
      "text/plain": [
       "     userid  score       City Gender  Age  Objects    Balance  Products  \\\n",
       "0  15677338    619  Ярославль      Ж   42        2        NaN         1   \n",
       "1  15690047    608    Рыбинск      Ж   41        1   83807.86         1   \n",
       "2  15662040    502  Ярославль      Ж   42        8  159660.80         3   \n",
       "3  15744090    699  Ярославль      Ж   39        1        NaN         2   \n",
       "4  15780624    850    Рыбинск      Ж   43        2  125510.82         1   \n",
       "\n",
       "   CreditCard  Loyalty  estimated_salary  Churn  \n",
       "0           1        1         101348.88      1  \n",
       "1           0        1         112542.58      0  \n",
       "2           1        0         113931.57      1  \n",
       "3           0        0          93826.63      0  \n",
       "4           1        1          79084.10      0  "
      ]
     },
     "execution_count": 64,
     "metadata": {},
     "output_type": "execute_result"
    }
   ],
   "source": [
    "df.head(5)"
   ]
  },
  {
   "cell_type": "markdown",
   "metadata": {},
   "source": [
    "**Как видим из названий колонок, есть необходимость привести их к нижнему регистру**"
   ]
  },
  {
   "cell_type": "code",
   "execution_count": 65,
   "metadata": {},
   "outputs": [],
   "source": [
    "df.rename(columns=(lambda x: x.lower()), inplace=True)"
   ]
  },
  {
   "cell_type": "markdown",
   "metadata": {},
   "source": [
    "**Проверим изменения**"
   ]
  },
  {
   "cell_type": "code",
   "execution_count": 66,
   "metadata": {},
   "outputs": [
    {
     "data": {
      "text/html": [
       "<div>\n",
       "<style scoped>\n",
       "    .dataframe tbody tr th:only-of-type {\n",
       "        vertical-align: middle;\n",
       "    }\n",
       "\n",
       "    .dataframe tbody tr th {\n",
       "        vertical-align: top;\n",
       "    }\n",
       "\n",
       "    .dataframe thead th {\n",
       "        text-align: right;\n",
       "    }\n",
       "</style>\n",
       "<table border=\"1\" class=\"dataframe\">\n",
       "  <thead>\n",
       "    <tr style=\"text-align: right;\">\n",
       "      <th></th>\n",
       "      <th>userid</th>\n",
       "      <th>score</th>\n",
       "      <th>city</th>\n",
       "      <th>gender</th>\n",
       "      <th>age</th>\n",
       "      <th>objects</th>\n",
       "      <th>balance</th>\n",
       "      <th>products</th>\n",
       "      <th>creditcard</th>\n",
       "      <th>loyalty</th>\n",
       "      <th>estimated_salary</th>\n",
       "      <th>churn</th>\n",
       "    </tr>\n",
       "  </thead>\n",
       "  <tbody>\n",
       "    <tr>\n",
       "      <th>0</th>\n",
       "      <td>15677338</td>\n",
       "      <td>619</td>\n",
       "      <td>Ярославль</td>\n",
       "      <td>Ж</td>\n",
       "      <td>42</td>\n",
       "      <td>2</td>\n",
       "      <td>NaN</td>\n",
       "      <td>1</td>\n",
       "      <td>1</td>\n",
       "      <td>1</td>\n",
       "      <td>101348.88</td>\n",
       "      <td>1</td>\n",
       "    </tr>\n",
       "    <tr>\n",
       "      <th>1</th>\n",
       "      <td>15690047</td>\n",
       "      <td>608</td>\n",
       "      <td>Рыбинск</td>\n",
       "      <td>Ж</td>\n",
       "      <td>41</td>\n",
       "      <td>1</td>\n",
       "      <td>83807.86</td>\n",
       "      <td>1</td>\n",
       "      <td>0</td>\n",
       "      <td>1</td>\n",
       "      <td>112542.58</td>\n",
       "      <td>0</td>\n",
       "    </tr>\n",
       "    <tr>\n",
       "      <th>2</th>\n",
       "      <td>15662040</td>\n",
       "      <td>502</td>\n",
       "      <td>Ярославль</td>\n",
       "      <td>Ж</td>\n",
       "      <td>42</td>\n",
       "      <td>8</td>\n",
       "      <td>159660.80</td>\n",
       "      <td>3</td>\n",
       "      <td>1</td>\n",
       "      <td>0</td>\n",
       "      <td>113931.57</td>\n",
       "      <td>1</td>\n",
       "    </tr>\n",
       "    <tr>\n",
       "      <th>3</th>\n",
       "      <td>15744090</td>\n",
       "      <td>699</td>\n",
       "      <td>Ярославль</td>\n",
       "      <td>Ж</td>\n",
       "      <td>39</td>\n",
       "      <td>1</td>\n",
       "      <td>NaN</td>\n",
       "      <td>2</td>\n",
       "      <td>0</td>\n",
       "      <td>0</td>\n",
       "      <td>93826.63</td>\n",
       "      <td>0</td>\n",
       "    </tr>\n",
       "    <tr>\n",
       "      <th>4</th>\n",
       "      <td>15780624</td>\n",
       "      <td>850</td>\n",
       "      <td>Рыбинск</td>\n",
       "      <td>Ж</td>\n",
       "      <td>43</td>\n",
       "      <td>2</td>\n",
       "      <td>125510.82</td>\n",
       "      <td>1</td>\n",
       "      <td>1</td>\n",
       "      <td>1</td>\n",
       "      <td>79084.10</td>\n",
       "      <td>0</td>\n",
       "    </tr>\n",
       "  </tbody>\n",
       "</table>\n",
       "</div>"
      ],
      "text/plain": [
       "     userid  score       city gender  age  objects    balance  products  \\\n",
       "0  15677338    619  Ярославль      Ж   42        2        NaN         1   \n",
       "1  15690047    608    Рыбинск      Ж   41        1   83807.86         1   \n",
       "2  15662040    502  Ярославль      Ж   42        8  159660.80         3   \n",
       "3  15744090    699  Ярославль      Ж   39        1        NaN         2   \n",
       "4  15780624    850    Рыбинск      Ж   43        2  125510.82         1   \n",
       "\n",
       "   creditcard  loyalty  estimated_salary  churn  \n",
       "0           1        1         101348.88      1  \n",
       "1           0        1         112542.58      0  \n",
       "2           1        0         113931.57      1  \n",
       "3           0        0          93826.63      0  \n",
       "4           1        1          79084.10      0  "
      ]
     },
     "execution_count": 66,
     "metadata": {},
     "output_type": "execute_result"
    }
   ],
   "source": [
    "df.head()"
   ]
  },
  {
   "cell_type": "markdown",
   "metadata": {},
   "source": [
    "**Напишем функцию для вывода информации о датасете**"
   ]
  },
  {
   "cell_type": "code",
   "execution_count": 67,
   "metadata": {},
   "outputs": [],
   "source": [
    "def main_inf(df):\n",
    "    print('Общая информация о датафрейме', '\\n')\n",
    "    display(df.info())\n",
    "    print('\\n')\n",
    "    print('Размер датафрейма', '\\n')\n",
    "    display(df.shape)\n",
    "    print('\\n')\n",
    "    print('Количество пропусков в %', '\\n')\n",
    "    display(df.isna().sum() / 100)\n",
    "    print('\\n')\n",
    "    print('Количество дубликатов', '\\n')\n",
    "    display(df.duplicated().sum())\n",
    "    print('\\n')\n",
    "    # print('Описательную статистика', '\\n')\n",
    "    # display(round(df.describe(), 2))"
   ]
  },
  {
   "cell_type": "markdown",
   "metadata": {},
   "source": [
    "**Применим функцию**"
   ]
  },
  {
   "cell_type": "code",
   "execution_count": 68,
   "metadata": {},
   "outputs": [
    {
     "name": "stdout",
     "output_type": "stream",
     "text": [
      "Общая информация о датафрейме \n",
      "\n",
      "<class 'pandas.core.frame.DataFrame'>\n",
      "RangeIndex: 10000 entries, 0 to 9999\n",
      "Data columns (total 12 columns):\n",
      " #   Column            Non-Null Count  Dtype  \n",
      "---  ------            --------------  -----  \n",
      " 0   userid            10000 non-null  int64  \n",
      " 1   score             10000 non-null  int64  \n",
      " 2   city              10000 non-null  object \n",
      " 3   gender            10000 non-null  object \n",
      " 4   age               10000 non-null  int64  \n",
      " 5   objects           10000 non-null  int64  \n",
      " 6   balance           6383 non-null   float64\n",
      " 7   products          10000 non-null  int64  \n",
      " 8   creditcard        10000 non-null  int64  \n",
      " 9   loyalty           10000 non-null  int64  \n",
      " 10  estimated_salary  10000 non-null  float64\n",
      " 11  churn             10000 non-null  int64  \n",
      "dtypes: float64(2), int64(8), object(2)\n",
      "memory usage: 937.6+ KB\n"
     ]
    },
    {
     "data": {
      "text/plain": [
       "None"
      ]
     },
     "metadata": {},
     "output_type": "display_data"
    },
    {
     "name": "stdout",
     "output_type": "stream",
     "text": [
      "\n",
      "\n",
      "Размер датафрейма \n",
      "\n"
     ]
    },
    {
     "data": {
      "text/plain": [
       "(10000, 12)"
      ]
     },
     "metadata": {},
     "output_type": "display_data"
    },
    {
     "name": "stdout",
     "output_type": "stream",
     "text": [
      "\n",
      "\n",
      "Количество пропусков в % \n",
      "\n"
     ]
    },
    {
     "data": {
      "text/plain": [
       "userid               0.00\n",
       "score                0.00\n",
       "city                 0.00\n",
       "gender               0.00\n",
       "age                  0.00\n",
       "objects              0.00\n",
       "balance             36.17\n",
       "products             0.00\n",
       "creditcard           0.00\n",
       "loyalty              0.00\n",
       "estimated_salary     0.00\n",
       "churn                0.00\n",
       "dtype: float64"
      ]
     },
     "metadata": {},
     "output_type": "display_data"
    },
    {
     "name": "stdout",
     "output_type": "stream",
     "text": [
      "\n",
      "\n",
      "Количество дубликатов \n",
      "\n"
     ]
    },
    {
     "data": {
      "text/plain": [
       "0"
      ]
     },
     "metadata": {},
     "output_type": "display_data"
    },
    {
     "name": "stdout",
     "output_type": "stream",
     "text": [
      "\n",
      "\n"
     ]
    }
   ],
   "source": [
    "main_inf(df)"
   ]
  },
  {
   "cell_type": "markdown",
   "id": "69d5dbed",
   "metadata": {},
   "source": [
    "**Как видим, в данных имеются пропуски.**\n",
    "\n",
    "**Возможная причина пропусков - непредоставление данных, неполный сбор информации ответственной стороной**"
   ]
  },
  {
   "cell_type": "markdown",
   "id": "4ad07a0d",
   "metadata": {},
   "source": [
    "**Проверим категориальные данные на аномалии**"
   ]
  },
  {
   "cell_type": "code",
   "execution_count": 69,
   "metadata": {},
   "outputs": [
    {
     "name": "stdout",
     "output_type": "stream",
     "text": [
      "city \n",
      "\n",
      "['Ярославль' 'Рыбинск' 'Ростов Великий'] \n",
      "\n",
      "\n",
      "gender \n",
      "\n",
      "['Ж' 'М'] \n",
      "\n",
      "\n"
     ]
    }
   ],
   "source": [
    "for i in df.columns:\n",
    "    if df[i].dtype == 'object':\n",
    "        print(i, '\\n')\n",
    "        print(df[i].unique(), '\\n\\n')\n",
    "        "
   ]
  },
  {
   "cell_type": "markdown",
   "id": "67bd4151",
   "metadata": {},
   "source": [
    "**Рассмотрим на распределение количественных признаков**"
   ]
  },
  {
   "cell_type": "code",
   "execution_count": 70,
   "metadata": {
    "scrolled": false
   },
   "outputs": [
    {
     "data": {
      "image/png": "[encoded data removed]",
      "text/plain": [
       "<Figure size 1080x1440 with 11 Axes>"
      ]
     },
     "metadata": {
      "needs_background": "light"
     },
     "output_type": "display_data"
    }
   ],
   "source": [
    "col_count, row_count = 2,7\n",
    "plt.figure(figsize = (15,20))\n",
    "\n",
    "for i, j in enumerate(df.drop(['userid'], axis=1).columns):\n",
    "    for churn in df.columns.drop('userid'):\n",
    "        try:\n",
    "            \n",
    "            current = df\n",
    "            sns.histplot(current[j], bins='auto',\n",
    "                       alpha=0.2, color='grey',  ax = plt.subplot(row_count, col_count, i+1)).set_title(j.upper())\n",
    "            plt.xlabel(None)\n",
    "            plt.ylabel(None)\n",
    "        except:\n",
    "            plt.bar(df[i].unique(), df.groupby(i).count()['userid'], alpha=0.2, color='grey')\n",
    "            \n",
    "            plt.grid(visible=None)\n",
    "\n",
    "sns.despine()    \n",
    "plt.suptitle('Распределение значений', fontsize= 18, y=1)\n",
    "\n",
    "plt.tight_layout() "
   ]
  },
  {
   "cell_type": "markdown",
   "id": "32a754f2",
   "metadata": {},
   "source": [
    "**Как видим, в наших данных нет каких либо ярко выраженных аномалий. Можно только лишь отметить небольшой пик слева в показателе** *score*\n"
   ]
  },
  {
   "cell_type": "markdown",
   "id": "feeea4e6",
   "metadata": {},
   "source": [
    "**Проверим есть ли пользователи попавшие в обе группы (отток/не отток)**"
   ]
  },
  {
   "cell_type": "code",
   "execution_count": 71,
   "metadata": {},
   "outputs": [
    {
     "data": {
      "text/html": [
       "<div>\n",
       "<style scoped>\n",
       "    .dataframe tbody tr th:only-of-type {\n",
       "        vertical-align: middle;\n",
       "    }\n",
       "\n",
       "    .dataframe tbody tr th {\n",
       "        vertical-align: top;\n",
       "    }\n",
       "\n",
       "    .dataframe thead th {\n",
       "        text-align: right;\n",
       "    }\n",
       "</style>\n",
       "<table border=\"1\" class=\"dataframe\">\n",
       "  <thead>\n",
       "    <tr style=\"text-align: right;\">\n",
       "      <th></th>\n",
       "      <th>unique</th>\n",
       "      <th>nunique</th>\n",
       "    </tr>\n",
       "    <tr>\n",
       "      <th>userid</th>\n",
       "      <th></th>\n",
       "      <th></th>\n",
       "    </tr>\n",
       "  </thead>\n",
       "  <tbody>\n",
       "  </tbody>\n",
       "</table>\n",
       "</div>"
      ],
      "text/plain": [
       "Empty DataFrame\n",
       "Columns: [unique, nunique]\n",
       "Index: []"
      ]
     },
     "execution_count": 71,
     "metadata": {},
     "output_type": "execute_result"
    }
   ],
   "source": [
    "df.groupby('userid').agg({'churn':['unique', 'nunique']}).droplevel(0,1).query('nunique > 1')"
   ]
  },
  {
   "cell_type": "markdown",
   "metadata": {},
   "source": [
    "**Проверим есть ли пользователи попавшие в данные по нескольким городам**"
   ]
  },
  {
   "cell_type": "code",
   "execution_count": 72,
   "metadata": {},
   "outputs": [
    {
     "data": {
      "text/html": [
       "<div>\n",
       "<style scoped>\n",
       "    .dataframe tbody tr th:only-of-type {\n",
       "        vertical-align: middle;\n",
       "    }\n",
       "\n",
       "    .dataframe tbody tr th {\n",
       "        vertical-align: top;\n",
       "    }\n",
       "\n",
       "    .dataframe thead th {\n",
       "        text-align: right;\n",
       "    }\n",
       "</style>\n",
       "<table border=\"1\" class=\"dataframe\">\n",
       "  <thead>\n",
       "    <tr style=\"text-align: right;\">\n",
       "      <th></th>\n",
       "      <th>unique</th>\n",
       "      <th>nunique</th>\n",
       "    </tr>\n",
       "    <tr>\n",
       "      <th>userid</th>\n",
       "      <th></th>\n",
       "      <th></th>\n",
       "    </tr>\n",
       "  </thead>\n",
       "  <tbody>\n",
       "  </tbody>\n",
       "</table>\n",
       "</div>"
      ],
      "text/plain": [
       "Empty DataFrame\n",
       "Columns: [unique, nunique]\n",
       "Index: []"
      ]
     },
     "execution_count": 72,
     "metadata": {},
     "output_type": "execute_result"
    }
   ],
   "source": [
    "df.groupby('userid').agg({'city':['unique', 'nunique']}).droplevel(0,1).query('nunique > 1')"
   ]
  },
  {
   "cell_type": "markdown",
   "id": "f2a0b72c",
   "metadata": {},
   "source": [
    "## Предобработка данных"
   ]
  },
  {
   "cell_type": "markdown",
   "id": "12c4230e",
   "metadata": {},
   "source": [
    "**Рассмотрим пропуски в разрезе параметров**"
   ]
  },
  {
   "cell_type": "code",
   "execution_count": 73,
   "metadata": {},
   "outputs": [
    {
     "data": {
      "image/png": "[encoded data removed]",
      "text/plain": [
       "<Figure size 1080x1440 with 10 Axes>"
      ]
     },
     "metadata": {
      "needs_background": "light"
     },
     "output_type": "display_data"
    }
   ],
   "source": [
    "col_count, row_count = 2,7\n",
    "plt.figure(figsize = (15,20))\n",
    "\n",
    "for i, j in enumerate(df.drop(['userid', 'balance'], axis=1).columns):\n",
    "    for churn in df['churn'].unique():\n",
    "        try:\n",
    "\n",
    "            current = df[~df['balance'].isna()]\n",
    "            sns.histplot(current[j], alpha=0.5, bins='auto', ax = plt.subplot(row_count, col_count, i+1), color = \"lawngreen\").set_title(j.upper())\n",
    "            \n",
    "            current = df[df['balance'].isna()]\n",
    "            sns.histplot(current[j], alpha=0.4, bins='auto', ax = plt.subplot(row_count, col_count, i+1), color = \"magenta\").set_title(j.upper())\n",
    "                        \n",
    "            current = df\n",
    "            sns.histplot(current[j], alpha=0.3, bins='auto', ax = plt.subplot(row_count, col_count, i+1), color = \"grey\").set_title(j.upper())\n",
    "\n",
    "\n",
    "            plt.legend(labels=['data w/o na', 'data na', 'data with na'])\n",
    "            plt.ylabel(None)\n",
    "            plt.xlabel(None)\n",
    "            \n",
    "\n",
    "        except:\n",
    "            plt.bar(df[i].unique(), df.groupby(i).count()['userid'], alpha=0.2, bins=50, color='grey')\n",
    "            \n",
    "            plt.grid(visible=None)\n",
    "    \n",
    "\n",
    "plt.suptitle('Распределение значений в зависимости от пропущенных значений', fontsize= 18, y=1)\n",
    "sns.despine()  \n",
    "plt.tight_layout() "
   ]
  },
  {
   "cell_type": "markdown",
   "id": "daf497ff",
   "metadata": {},
   "source": [
    "**В наших данных мы наблюдаем пропущенные значения в признаке** *balance*. **Есть отсутствие пропусков в городе Ростов-Великий. Между Городами Рыбинск и Ярославль распределение пропусков равномерное.** "
   ]
  },
  {
   "cell_type": "markdown",
   "id": "b8e5604c",
   "metadata": {},
   "source": [
    "**Сравним основные характеристики в показателях с полными данными и данными без пропусков**"
   ]
  },
  {
   "cell_type": "code",
   "execution_count": 74,
   "metadata": {},
   "outputs": [
    {
     "data": {
      "text/html": [
       "<div>\n",
       "<style scoped>\n",
       "    .dataframe tbody tr th:only-of-type {\n",
       "        vertical-align: middle;\n",
       "    }\n",
       "\n",
       "    .dataframe tbody tr th {\n",
       "        vertical-align: top;\n",
       "    }\n",
       "\n",
       "    .dataframe thead th {\n",
       "        text-align: right;\n",
       "    }\n",
       "</style>\n",
       "<table border=\"1\" class=\"dataframe\">\n",
       "  <thead>\n",
       "    <tr style=\"text-align: right;\">\n",
       "      <th></th>\n",
       "      <th>mean</th>\n",
       "      <th>std</th>\n",
       "      <th>min</th>\n",
       "      <th>25%</th>\n",
       "      <th>50%</th>\n",
       "      <th>75%</th>\n",
       "      <th>max</th>\n",
       "    </tr>\n",
       "  </thead>\n",
       "  <tbody>\n",
       "    <tr>\n",
       "      <th>score_full</th>\n",
       "      <td>650.5288</td>\n",
       "      <td>96.653299</td>\n",
       "      <td>350.0</td>\n",
       "      <td>584.0</td>\n",
       "      <td>652.0</td>\n",
       "      <td>718.0</td>\n",
       "      <td>850.0</td>\n",
       "    </tr>\n",
       "    <tr>\n",
       "      <th>age_full</th>\n",
       "      <td>38.9218</td>\n",
       "      <td>10.487806</td>\n",
       "      <td>18.0</td>\n",
       "      <td>32.0</td>\n",
       "      <td>37.0</td>\n",
       "      <td>44.0</td>\n",
       "      <td>92.0</td>\n",
       "    </tr>\n",
       "    <tr>\n",
       "      <th>objects_full</th>\n",
       "      <td>5.0128</td>\n",
       "      <td>2.892174</td>\n",
       "      <td>0.0</td>\n",
       "      <td>3.0</td>\n",
       "      <td>5.0</td>\n",
       "      <td>7.0</td>\n",
       "      <td>10.0</td>\n",
       "    </tr>\n",
       "    <tr>\n",
       "      <th>balance_full</th>\n",
       "      <td>119827.493793</td>\n",
       "      <td>30095.056462</td>\n",
       "      <td>3768.69</td>\n",
       "      <td>100181.975</td>\n",
       "      <td>119839.69</td>\n",
       "      <td>139512.29</td>\n",
       "      <td>250898.09</td>\n",
       "    </tr>\n",
       "    <tr>\n",
       "      <th>products_full</th>\n",
       "      <td>1.5302</td>\n",
       "      <td>0.581654</td>\n",
       "      <td>1.0</td>\n",
       "      <td>1.0</td>\n",
       "      <td>1.0</td>\n",
       "      <td>2.0</td>\n",
       "      <td>4.0</td>\n",
       "    </tr>\n",
       "    <tr>\n",
       "      <th>creditcard_full</th>\n",
       "      <td>0.7055</td>\n",
       "      <td>0.45584</td>\n",
       "      <td>0.0</td>\n",
       "      <td>0.0</td>\n",
       "      <td>1.0</td>\n",
       "      <td>1.0</td>\n",
       "      <td>1.0</td>\n",
       "    </tr>\n",
       "    <tr>\n",
       "      <th>loyalty_full</th>\n",
       "      <td>0.5151</td>\n",
       "      <td>0.499797</td>\n",
       "      <td>0.0</td>\n",
       "      <td>0.0</td>\n",
       "      <td>1.0</td>\n",
       "      <td>1.0</td>\n",
       "      <td>1.0</td>\n",
       "    </tr>\n",
       "    <tr>\n",
       "      <th>estimated_salary_full</th>\n",
       "      <td>100090.239881</td>\n",
       "      <td>57510.492818</td>\n",
       "      <td>11.58</td>\n",
       "      <td>51002.11</td>\n",
       "      <td>100193.915</td>\n",
       "      <td>149388.2475</td>\n",
       "      <td>199992.48</td>\n",
       "    </tr>\n",
       "    <tr>\n",
       "      <th>churn_full</th>\n",
       "      <td>0.2037</td>\n",
       "      <td>0.402769</td>\n",
       "      <td>0.0</td>\n",
       "      <td>0.0</td>\n",
       "      <td>0.0</td>\n",
       "      <td>0.0</td>\n",
       "      <td>1.0</td>\n",
       "    </tr>\n",
       "    <tr>\n",
       "      <th>score_w/o_na</th>\n",
       "      <td>651.138493</td>\n",
       "      <td>96.934609</td>\n",
       "      <td>350.0</td>\n",
       "      <td>584.0</td>\n",
       "      <td>652.0</td>\n",
       "      <td>718.0</td>\n",
       "      <td>850.0</td>\n",
       "    </tr>\n",
       "    <tr>\n",
       "      <th>age_w/o_na</th>\n",
       "      <td>39.197713</td>\n",
       "      <td>10.476208</td>\n",
       "      <td>18.0</td>\n",
       "      <td>32.0</td>\n",
       "      <td>38.0</td>\n",
       "      <td>44.0</td>\n",
       "      <td>92.0</td>\n",
       "    </tr>\n",
       "    <tr>\n",
       "      <th>objects_w/o_na</th>\n",
       "      <td>4.979633</td>\n",
       "      <td>2.909514</td>\n",
       "      <td>0.0</td>\n",
       "      <td>2.0</td>\n",
       "      <td>5.0</td>\n",
       "      <td>8.0</td>\n",
       "      <td>10.0</td>\n",
       "    </tr>\n",
       "    <tr>\n",
       "      <th>balance_w/o_na</th>\n",
       "      <td>119827.493793</td>\n",
       "      <td>30095.056462</td>\n",
       "      <td>3768.69</td>\n",
       "      <td>100181.975</td>\n",
       "      <td>119839.69</td>\n",
       "      <td>139512.29</td>\n",
       "      <td>250898.09</td>\n",
       "    </tr>\n",
       "    <tr>\n",
       "      <th>products_w/o_na</th>\n",
       "      <td>1.386025</td>\n",
       "      <td>0.577011</td>\n",
       "      <td>1.0</td>\n",
       "      <td>1.0</td>\n",
       "      <td>1.0</td>\n",
       "      <td>2.0</td>\n",
       "      <td>4.0</td>\n",
       "    </tr>\n",
       "    <tr>\n",
       "      <th>creditcard_w/o_na</th>\n",
       "      <td>0.699201</td>\n",
       "      <td>0.458641</td>\n",
       "      <td>0.0</td>\n",
       "      <td>0.0</td>\n",
       "      <td>1.0</td>\n",
       "      <td>1.0</td>\n",
       "      <td>1.0</td>\n",
       "    </tr>\n",
       "    <tr>\n",
       "      <th>loyalty_w/o_na</th>\n",
       "      <td>0.513552</td>\n",
       "      <td>0.499855</td>\n",
       "      <td>0.0</td>\n",
       "      <td>0.0</td>\n",
       "      <td>1.0</td>\n",
       "      <td>1.0</td>\n",
       "      <td>1.0</td>\n",
       "    </tr>\n",
       "    <tr>\n",
       "      <th>estimated_salary_w/o_na</th>\n",
       "      <td>100717.352956</td>\n",
       "      <td>57380.316584</td>\n",
       "      <td>11.58</td>\n",
       "      <td>51736.85</td>\n",
       "      <td>101139.3</td>\n",
       "      <td>149596.615</td>\n",
       "      <td>199970.74</td>\n",
       "    </tr>\n",
       "    <tr>\n",
       "      <th>churn_w/o_na</th>\n",
       "      <td>0.240796</td>\n",
       "      <td>0.4276</td>\n",
       "      <td>0.0</td>\n",
       "      <td>0.0</td>\n",
       "      <td>0.0</td>\n",
       "      <td>0.0</td>\n",
       "      <td>1.0</td>\n",
       "    </tr>\n",
       "    <tr>\n",
       "      <th>gender_full</th>\n",
       "      <td>5000.0</td>\n",
       "      <td>646.295598</td>\n",
       "      <td>4543.0</td>\n",
       "      <td>4771.5</td>\n",
       "      <td>5000.0</td>\n",
       "      <td>5228.5</td>\n",
       "      <td>5457.0</td>\n",
       "    </tr>\n",
       "    <tr>\n",
       "      <th>gender_w/o_na</th>\n",
       "      <td>3191.5</td>\n",
       "      <td>427.799603</td>\n",
       "      <td>2889.0</td>\n",
       "      <td>3040.25</td>\n",
       "      <td>3191.5</td>\n",
       "      <td>3342.75</td>\n",
       "      <td>3494.0</td>\n",
       "    </tr>\n",
       "    <tr>\n",
       "      <th>city_full</th>\n",
       "      <td>3333.333333</td>\n",
       "      <td>1455.587968</td>\n",
       "      <td>2477.0</td>\n",
       "      <td>2493.0</td>\n",
       "      <td>2509.0</td>\n",
       "      <td>3761.5</td>\n",
       "      <td>5014.0</td>\n",
       "    </tr>\n",
       "    <tr>\n",
       "      <th>city_w/o_na</th>\n",
       "      <td>2127.666667</td>\n",
       "      <td>737.117584</td>\n",
       "      <td>1278.0</td>\n",
       "      <td>1893.5</td>\n",
       "      <td>2509.0</td>\n",
       "      <td>2552.5</td>\n",
       "      <td>2596.0</td>\n",
       "    </tr>\n",
       "  </tbody>\n",
       "</table>\n",
       "</div>"
      ],
      "text/plain": [
       "                                  mean           std      min         25%  \\\n",
       "score_full                    650.5288     96.653299    350.0       584.0   \n",
       "age_full                       38.9218     10.487806     18.0        32.0   \n",
       "objects_full                    5.0128      2.892174      0.0         3.0   \n",
       "balance_full             119827.493793  30095.056462  3768.69  100181.975   \n",
       "products_full                   1.5302      0.581654      1.0         1.0   \n",
       "creditcard_full                 0.7055       0.45584      0.0         0.0   \n",
       "loyalty_full                    0.5151      0.499797      0.0         0.0   \n",
       "estimated_salary_full    100090.239881  57510.492818    11.58    51002.11   \n",
       "churn_full                      0.2037      0.402769      0.0         0.0   \n",
       "score_w/o_na                651.138493     96.934609    350.0       584.0   \n",
       "age_w/o_na                   39.197713     10.476208     18.0        32.0   \n",
       "objects_w/o_na                4.979633      2.909514      0.0         2.0   \n",
       "balance_w/o_na           119827.493793  30095.056462  3768.69  100181.975   \n",
       "products_w/o_na               1.386025      0.577011      1.0         1.0   \n",
       "creditcard_w/o_na             0.699201      0.458641      0.0         0.0   \n",
       "loyalty_w/o_na                0.513552      0.499855      0.0         0.0   \n",
       "estimated_salary_w/o_na  100717.352956  57380.316584    11.58    51736.85   \n",
       "churn_w/o_na                  0.240796        0.4276      0.0         0.0   \n",
       "gender_full                     5000.0    646.295598   4543.0      4771.5   \n",
       "gender_w/o_na                   3191.5    427.799603   2889.0     3040.25   \n",
       "city_full                  3333.333333   1455.587968   2477.0      2493.0   \n",
       "city_w/o_na                2127.666667    737.117584   1278.0      1893.5   \n",
       "\n",
       "                                50%          75%        max  \n",
       "score_full                    652.0        718.0      850.0  \n",
       "age_full                       37.0         44.0       92.0  \n",
       "objects_full                    5.0          7.0       10.0  \n",
       "balance_full              119839.69    139512.29  250898.09  \n",
       "products_full                   1.0          2.0        4.0  \n",
       "creditcard_full                 1.0          1.0        1.0  \n",
       "loyalty_full                    1.0          1.0        1.0  \n",
       "estimated_salary_full    100193.915  149388.2475  199992.48  \n",
       "churn_full                      0.0          0.0        1.0  \n",
       "score_w/o_na                  652.0        718.0      850.0  \n",
       "age_w/o_na                     38.0         44.0       92.0  \n",
       "objects_w/o_na                  5.0          8.0       10.0  \n",
       "balance_w/o_na            119839.69    139512.29  250898.09  \n",
       "products_w/o_na                 1.0          2.0        4.0  \n",
       "creditcard_w/o_na               1.0          1.0        1.0  \n",
       "loyalty_w/o_na                  1.0          1.0        1.0  \n",
       "estimated_salary_w/o_na    101139.3   149596.615  199970.74  \n",
       "churn_w/o_na                    0.0          0.0        1.0  \n",
       "gender_full                  5000.0       5228.5     5457.0  \n",
       "gender_w/o_na                3191.5      3342.75     3494.0  \n",
       "city_full                    2509.0       3761.5     5014.0  \n",
       "city_w/o_na                  2509.0       2552.5     2596.0  "
      ]
     },
     "execution_count": 74,
     "metadata": {},
     "output_type": "execute_result"
    }
   ],
   "source": [
    "# Выводим датафрейм с категориальными показателями gender\n",
    "desc_gend = df\\\n",
    "                .groupby('gender')\\\n",
    "                .count()[['userid']]\\\n",
    "                .rename(columns={'userid':'gender_full'})\\\n",
    "                .merge(\n",
    "            df[~df['balance'].isna()]\\\n",
    "                .groupby('gender')\\\n",
    "                .count()[['userid']]\\\n",
    "                .rename(columns={'userid':'gender_w/o_na'}), how='inner', on='gender')\\\n",
    "                .describe().reset_index()\n",
    "\n",
    "# Выводим датафрейм с категориальными показателями city\n",
    "desc_city = df\\\n",
    "            .groupby('city')\\\n",
    "            .count()[['userid']]\\\n",
    "            .rename(columns={'userid':'city_full'})\\\n",
    "            .merge(\n",
    "                    df[~df['balance'].isna()]\\\n",
    "                        .groupby('city')\\\n",
    "                        .count()[['userid']]\\\n",
    "                        .rename(columns={'userid':'city_w/o_na'}), how='inner', on='city')\\\n",
    "                        .describe().reset_index()\n",
    "\n",
    "# Объединяем датафреймы с категориальными показателями \n",
    "desc_g_c = desc_gend.merge(desc_city, on='index')\n",
    "\n",
    "# Выводим датафрейм с количественными показателями\n",
    "desc_main = df\\\n",
    "            .iloc[:, 1:]\\\n",
    "            .describe()\\\n",
    "            .reset_index()\\\n",
    "            .merge(\n",
    "                    df[~df['balance'].isna()]\\\n",
    "                        .iloc[:, 1:]\\\n",
    "                        .describe()\\\n",
    "                        .reset_index(), how='inner', on='index', suffixes=('_full', '_w/o_na'))\n",
    "\n",
    "# Объединяем датафреймы с категориальными и количественными показателями \n",
    "desc_main = desc_main.merge(desc_g_c, on='index', how='inner')\n",
    "desc_main.T.iloc[:, 1:].rename(columns=desc_main.T.iloc[:, 1:].iloc[0])[1:]"
   ]
  },
  {
   "cell_type": "markdown",
   "id": "5fd53e0b",
   "metadata": {},
   "source": [
    "**В случае удаления увеличится доля города Ростов-Великий**\n",
    "**Значительная разница в стандартном отклонениее в показателях** *city и gender*"
   ]
  },
  {
   "cell_type": "markdown",
   "id": "9af46ace",
   "metadata": {},
   "source": [
    "**balance** — количественная переменная. Пропуски в таких переменных заполняют характерными значениями. Это значения, характеризующие состояние выборки, — набора данных, выбранных для проведения исследования. Чтобы примерно оценить типичные значения выборки, выберим медиану.\n",
    "\n",
    "**Однако заполнение медианой/средним значением приведет к тому что изменится стандартное отклонение и произойдет искажение распределения переменной**\n"
   ]
  },
  {
   "cell_type": "markdown",
   "metadata": {},
   "source": [
    "**Рассмотрим распределение значений по городам. Сравним данные с пропусками в городах Ярославль и рыбинск со значениями в Ростове**"
   ]
  },
  {
   "cell_type": "code",
   "execution_count": 75,
   "metadata": {},
   "outputs": [
    {
     "data": {
      "image/png": "[encoded data removed]",
      "text/plain": [
       "<Figure size 1080x1440 with 9 Axes>"
      ]
     },
     "metadata": {
      "needs_background": "light"
     },
     "output_type": "display_data"
    }
   ],
   "source": [
    "col_count, row_count = 2,7\n",
    "plt.figure(figsize = (15,20))\n",
    "\n",
    "for i, j in enumerate(df.drop(['userid', 'city', 'balance'], axis=1).columns):\n",
    "    for churn in df['churn'].unique():\n",
    "        try:\n",
    "\n",
    "            current = df.query('city == \"Ростов Великий\"')\n",
    "            sns.histplot(current[j], alpha=0.5, bins='auto', ax = plt.subplot(row_count, col_count, i+1), color = \"lawngreen\").set_title(j.upper())\n",
    "            \n",
    "            current = df[df['balance'].isna()].query('city != \"Ростов Великий\"')\n",
    "            sns.histplot(current[j], alpha=0.4, bins='auto', ax = plt.subplot(row_count, col_count, i+1), color = \"grey\").set_title(j.upper())\n",
    "                        \n",
    "      \n",
    "            plt.legend(labels=['Значения в Ростове Великом', 'Значения в других городах'])\n",
    "            plt.ylabel(None)\n",
    "            plt.xlabel(None)\n",
    "            \n",
    "\n",
    "        except:\n",
    "            plt.bar(df[i].unique(), df.groupby(i).count()['userid'], alpha=0.2, color='grey')\n",
    "            \n",
    "            plt.grid(visible=None)\n",
    "    \n",
    "\n",
    "plt.suptitle('Распределение значений по городам', fontsize= 18, y=1)\n",
    "sns.despine()  \n",
    "plt.tight_layout() "
   ]
  },
  {
   "cell_type": "markdown",
   "metadata": {},
   "source": [
    "**Как видим есть разница в распределниях по продуктам. Вероятной причиной проущенных значений может быть проблема различии механизмов привлечения клиентов**"
   ]
  },
  {
   "cell_type": "markdown",
   "id": "37e91642",
   "metadata": {},
   "source": [
    "**Далее проверим на выбросы количественные показатели**"
   ]
  },
  {
   "cell_type": "code",
   "execution_count": 76,
   "metadata": {},
   "outputs": [
    {
     "data": {
      "image/png": "[encoded data removed]",
      "text/plain": [
       "<Figure size 1440x1440 with 10 Axes>"
      ]
     },
     "metadata": {
      "needs_background": "light"
     },
     "output_type": "display_data"
    }
   ],
   "source": [
    "fig, axs = plt.subplots(nrows=5, ncols=2, figsize=(20, 20))\n",
    "plt.subplots_adjust(hspace=0.5)\n",
    "fig.suptitle(\"Размах значений\", fontsize=18, y=0.95)\n",
    "\n",
    "for i, ax in zip(df[['score', 'age', 'objects','balance','products', 'creditcard', 'loyalty', 'estimated_salary', 'churn']].columns, axs.ravel()):\n",
    "\n",
    "    df[[i]].boxplot( ax=ax)\n",
    "\n",
    "    ax.set_title(i.upper())\n",
    "#     ax.legend(['без выбросов', 'с выбросами'])\n",
    "    ax.grid(visible=None)\n",
    "    sns.despine()\n",
    "\n",
    "\n",
    "plt.show()"
   ]
  },
  {
   "cell_type": "markdown",
   "id": "3d36ba9a",
   "metadata": {},
   "source": [
    "**Для того чтобы убрать из датафрейма редкие и выбивающиеся значения сначала создадим список из интересующих колонок**"
   ]
  },
  {
   "cell_type": "code",
   "execution_count": 77,
   "metadata": {},
   "outputs": [],
   "source": [
    "spisok_wybros = ['score', 'age', 'products','balance']"
   ]
  },
  {
   "cell_type": "markdown",
   "id": "0a059834",
   "metadata": {},
   "source": [
    "**Далее передадим список в цикл чтобы создадть два списка с нижними и верхними границами по которым будем делать срез**"
   ]
  },
  {
   "cell_type": "code",
   "execution_count": 78,
   "id": "b5802fed",
   "metadata": {},
   "outputs": [
    {
     "name": "stdout",
     "output_type": "stream",
     "text": [
      "score 383.0\n",
      "age 14.0\n",
      "products -0.5\n",
      "balance 41186.5\n",
      "\n",
      "\n",
      "['score', 'age', 'balance']\n"
     ]
    }
   ],
   "source": [
    "spysok_down_plus_wybros = []\n",
    "spysok_down_minus_wybros = []\n",
    "for row in spisok_wybros:\n",
    "    print(row, round(df[row].describe()[4] - (df[row].describe()[-2] - df[row].describe()[4]) * 1.5, 2))\n",
    "    if round(df[row].describe()[4] - (df[row].describe()[-2] - df[row].describe()[4]) * 1.5, 2) < 0:\n",
    "        spysok_down_minus_wybros.append(row)\n",
    "    else:\n",
    "        spysok_down_plus_wybros.append(row)\n",
    "print('\\n')\n",
    "# print(spysok_down_minus_wybros)\n",
    "print(spysok_down_plus_wybros)"
   ]
  },
  {
   "cell_type": "code",
   "execution_count": 79,
   "id": "48481022",
   "metadata": {},
   "outputs": [
    {
     "name": "stdout",
     "output_type": "stream",
     "text": [
      "score 919.0\n",
      "age 62.0\n",
      "products 3.5\n",
      "balance 198507.76\n",
      "\n",
      "\n",
      "['score', 'age', 'products', 'balance']\n"
     ]
    }
   ],
   "source": [
    "spysok_up_plus_wybros = []\n",
    "spysok_up_minus_wybros = []\n",
    "for row in spisok_wybros:\n",
    "    print(row, round((df[row].describe()[-2] - df[row].describe()[4]) * 1.5 + df[row].describe()[-2], 2))\n",
    "    if round((df[row].describe()[-2] - df[row].describe()[4]) * 1.5 + df[row].describe()[-2], 2) < 0:\n",
    "        spysok_up_minus_wybros.append(row)\n",
    "    else:\n",
    "        spysok_up_plus_wybros.append(row)\n",
    "print('\\n')\n",
    "# print(spysok_up_minus_wybros)\n",
    "print(spysok_up_plus_wybros)"
   ]
  },
  {
   "cell_type": "markdown",
   "id": "7ec6fac7",
   "metadata": {},
   "source": [
    "**Создадим датафрейм по срезам с необходимыми значениями**"
   ]
  },
  {
   "cell_type": "code",
   "execution_count": 80,
   "id": "68f228b6",
   "metadata": {},
   "outputs": [],
   "source": [
    "df_filtered = df[~df.index.isin(df\\\n",
    "                                 .query('balance >= 198507.76')\\\n",
    "                                 .index.append(df\\\n",
    "                                               .query('balance < 41186.5')\\\n",
    "                                               .index).append(df\\\n",
    "                                                              .query('age >= 62')\\\n",
    "                                                              .index).append(df\\\n",
    "                                                                             .query('score <= 383.0')\\\n",
    "                                                                             .index))] \n"
   ]
  },
  {
   "cell_type": "markdown",
   "metadata": {},
   "source": [
    "**Посчитаем процент отброшенных данных**"
   ]
  },
  {
   "cell_type": "code",
   "execution_count": 81,
   "metadata": {},
   "outputs": [
    {
     "data": {
      "text/plain": [
       "4.97"
      ]
     },
     "execution_count": 81,
     "metadata": {},
     "output_type": "execute_result"
    }
   ],
   "source": [
    "(df.shape[0] - df_filtered.shape[0]) / df.shape[0] * 100"
   ]
  },
  {
   "cell_type": "markdown",
   "metadata": {
    "scrolled": true
   },
   "source": [
    "**Рассмотрим распределение выбросов**"
   ]
  },
  {
   "cell_type": "code",
   "execution_count": 82,
   "metadata": {
    "scrolled": false
   },
   "outputs": [
    {
     "data": {
      "image/png": "[encoded data removed]",
      "text/plain": [
       "<Figure size 1080x1440 with 11 Axes>"
      ]
     },
     "metadata": {
      "needs_background": "light"
     },
     "output_type": "display_data"
    }
   ],
   "source": [
    "col_count, row_count = 2,7\n",
    "plt.figure(figsize = (15,20))\n",
    "\n",
    "for i, j in enumerate(df.drop(['userid'], axis=1).columns):\n",
    "    for churn in df.columns.drop('userid'):\n",
    "        try:\n",
    "            \n",
    "            current = df[~df.index.isin(df_filtered.index)]\n",
    "            sns.histplot(current[j], bins='auto',\n",
    "                       alpha=0.5, color='lawngreen',  ax = plt.subplot(row_count, col_count, i+1)).set_title(j.upper())\n",
    "            \n",
    "            current = df\n",
    "            sns.histplot(current[j], bins='auto',\n",
    "                        alpha=0.4, color='grey', ax = plt.subplot(row_count, col_count, i+1)).set_title(j.upper())\n",
    "            \n",
    "            plt.legend(labels=['параметры без выбросов', 'выбросы'])\n",
    "            \n",
    "            plt.xlabel(None)\n",
    "            plt.ylabel(None)\n",
    "            \n",
    "        except:\n",
    "            plt.bar(df[i].unique(), df[~df.index.isin(df_filtered.index)].groupby(i).count()['userid'], alpha=0.2, color='grey')\n",
    "            \n",
    "            plt.grid(visible=None)\n",
    "\n",
    "sns.despine()    \n",
    "plt.suptitle('Распределение выбросов', fontsize= 18, y=1)\n",
    "\n",
    "plt.tight_layout() "
   ]
  },
  {
   "cell_type": "markdown",
   "metadata": {},
   "source": [
    "**Как видим, значительную долю выбросов можно наблюдать в показатели** *city - Ростов Великий, products - 1*\n",
    "\n",
    "Причинами возникновения выбросов может быть сбой в работе оборудования, человеческий фактор, уникальные явления."
   ]
  },
  {
   "cell_type": "markdown",
   "id": "ef0491cd",
   "metadata": {},
   "source": [
    "**Выведем на экран отфильтрованные данные**"
   ]
  },
  {
   "cell_type": "code",
   "execution_count": 83,
   "id": "4c60801f",
   "metadata": {},
   "outputs": [
    {
     "data": {
      "text/html": [
       "<div>\n",
       "<style scoped>\n",
       "    .dataframe tbody tr th:only-of-type {\n",
       "        vertical-align: middle;\n",
       "    }\n",
       "\n",
       "    .dataframe tbody tr th {\n",
       "        vertical-align: top;\n",
       "    }\n",
       "\n",
       "    .dataframe thead th {\n",
       "        text-align: right;\n",
       "    }\n",
       "</style>\n",
       "<table border=\"1\" class=\"dataframe\">\n",
       "  <thead>\n",
       "    <tr style=\"text-align: right;\">\n",
       "      <th></th>\n",
       "      <th>userid</th>\n",
       "      <th>score</th>\n",
       "      <th>city</th>\n",
       "      <th>gender</th>\n",
       "      <th>age</th>\n",
       "      <th>objects</th>\n",
       "      <th>balance</th>\n",
       "      <th>products</th>\n",
       "      <th>creditcard</th>\n",
       "      <th>loyalty</th>\n",
       "      <th>estimated_salary</th>\n",
       "      <th>churn</th>\n",
       "    </tr>\n",
       "  </thead>\n",
       "  <tbody>\n",
       "    <tr>\n",
       "      <th>0</th>\n",
       "      <td>15677338</td>\n",
       "      <td>619</td>\n",
       "      <td>Ярославль</td>\n",
       "      <td>Ж</td>\n",
       "      <td>42</td>\n",
       "      <td>2</td>\n",
       "      <td>NaN</td>\n",
       "      <td>1</td>\n",
       "      <td>1</td>\n",
       "      <td>1</td>\n",
       "      <td>101348.88</td>\n",
       "      <td>1</td>\n",
       "    </tr>\n",
       "    <tr>\n",
       "      <th>1</th>\n",
       "      <td>15690047</td>\n",
       "      <td>608</td>\n",
       "      <td>Рыбинск</td>\n",
       "      <td>Ж</td>\n",
       "      <td>41</td>\n",
       "      <td>1</td>\n",
       "      <td>83807.86</td>\n",
       "      <td>1</td>\n",
       "      <td>0</td>\n",
       "      <td>1</td>\n",
       "      <td>112542.58</td>\n",
       "      <td>0</td>\n",
       "    </tr>\n",
       "    <tr>\n",
       "      <th>2</th>\n",
       "      <td>15662040</td>\n",
       "      <td>502</td>\n",
       "      <td>Ярославль</td>\n",
       "      <td>Ж</td>\n",
       "      <td>42</td>\n",
       "      <td>8</td>\n",
       "      <td>159660.80</td>\n",
       "      <td>3</td>\n",
       "      <td>1</td>\n",
       "      <td>0</td>\n",
       "      <td>113931.57</td>\n",
       "      <td>1</td>\n",
       "    </tr>\n",
       "    <tr>\n",
       "      <th>3</th>\n",
       "      <td>15744090</td>\n",
       "      <td>699</td>\n",
       "      <td>Ярославль</td>\n",
       "      <td>Ж</td>\n",
       "      <td>39</td>\n",
       "      <td>1</td>\n",
       "      <td>NaN</td>\n",
       "      <td>2</td>\n",
       "      <td>0</td>\n",
       "      <td>0</td>\n",
       "      <td>93826.63</td>\n",
       "      <td>0</td>\n",
       "    </tr>\n",
       "    <tr>\n",
       "      <th>4</th>\n",
       "      <td>15780624</td>\n",
       "      <td>850</td>\n",
       "      <td>Рыбинск</td>\n",
       "      <td>Ж</td>\n",
       "      <td>43</td>\n",
       "      <td>2</td>\n",
       "      <td>125510.82</td>\n",
       "      <td>1</td>\n",
       "      <td>1</td>\n",
       "      <td>1</td>\n",
       "      <td>79084.10</td>\n",
       "      <td>0</td>\n",
       "    </tr>\n",
       "  </tbody>\n",
       "</table>\n",
       "</div>"
      ],
      "text/plain": [
       "     userid  score       city gender  age  objects    balance  products  \\\n",
       "0  15677338    619  Ярославль      Ж   42        2        NaN         1   \n",
       "1  15690047    608    Рыбинск      Ж   41        1   83807.86         1   \n",
       "2  15662040    502  Ярославль      Ж   42        8  159660.80         3   \n",
       "3  15744090    699  Ярославль      Ж   39        1        NaN         2   \n",
       "4  15780624    850    Рыбинск      Ж   43        2  125510.82         1   \n",
       "\n",
       "   creditcard  loyalty  estimated_salary  churn  \n",
       "0           1        1         101348.88      1  \n",
       "1           0        1         112542.58      0  \n",
       "2           1        0         113931.57      1  \n",
       "3           0        0          93826.63      0  \n",
       "4           1        1          79084.10      0  "
      ]
     },
     "execution_count": 83,
     "metadata": {},
     "output_type": "execute_result"
    }
   ],
   "source": [
    "df_filtered.head()"
   ]
  },
  {
   "cell_type": "markdown",
   "id": "980cd139",
   "metadata": {},
   "source": [
    "**Посмотрим на распределение признаков в сравнении до и после удаления выбросов**"
   ]
  },
  {
   "cell_type": "code",
   "execution_count": 84,
   "metadata": {},
   "outputs": [
    {
     "data": {
      "image/png": "[encoded data removed]",
      "text/plain": [
       "<Figure size 1080x1440 with 11 Axes>"
      ]
     },
     "metadata": {
      "needs_background": "light"
     },
     "output_type": "display_data"
    }
   ],
   "source": [
    "col_count, row_count = 2,7\n",
    "plt.figure(figsize = (15,20))\n",
    "\n",
    "for i, j in enumerate(df.drop(['userid'], axis=1).columns):\n",
    "    for churn in df.columns.drop('userid'):\n",
    "        try:\n",
    "            \n",
    "            current = df_filtered\n",
    "            sns.histplot(current[j], bins='auto',\n",
    "                       alpha=0.5, color='lawngreen',  ax = plt.subplot(row_count, col_count, i+1)).set_title(j.upper())\n",
    "            \n",
    "            current = df\n",
    "            sns.histplot(current[j], bins='auto',\n",
    "                        alpha=0.4, color='grey', ax = plt.subplot(row_count, col_count, i+1)).set_title(j.upper())\n",
    "            \n",
    "            plt.legend(labels=['параметры без выбросов', 'параметры с выбросами'])\n",
    "            \n",
    "            plt.xlabel(None)\n",
    "            plt.ylabel(None)\n",
    "            \n",
    "        except:\n",
    "            plt.bar(df[i].unique(), df_filtered.groupby(i).count()['userid'], alpha=0.2, color='grey')\n",
    "            \n",
    "            plt.grid(visible=None)\n",
    "\n",
    "sns.despine()    \n",
    "plt.suptitle('Распределение значений в данных с выбросами', fontsize= 18, y=1)\n",
    "\n",
    "plt.tight_layout() "
   ]
  },
  {
   "cell_type": "markdown",
   "id": "fdf75787",
   "metadata": {},
   "source": [
    "**Таким образом, сделав срезы по необходимым параметрам мы избавились от выбросов и редких значений**"
   ]
  },
  {
   "cell_type": "markdown",
   "id": "4fafe30e",
   "metadata": {},
   "source": [
    "## Категоризация"
   ]
  },
  {
   "cell_type": "markdown",
   "metadata": {},
   "source": [
    "**Разбивку на категории будем проводить исходя из их распределения:**\n",
    "- в категорию **little** попадут первые 25%;\n",
    "- в категорию **middle** попадут вторые 50%;\n",
    "- в категорию **a_lot_of** попадут оставшиеся 25%."
   ]
  },
  {
   "cell_type": "markdown",
   "id": "4196b308",
   "metadata": {},
   "source": [
    "**Создадим функции для категоризации**"
   ]
  },
  {
   "cell_type": "code",
   "execution_count": 85,
   "id": "2a2e5b13",
   "metadata": {},
   "outputs": [],
   "source": [
    "# Функция категоризации по balance\n",
    "\n",
    "def category_balance(balance):\n",
    "    if balance < 95000:\n",
    "        return 'little'\n",
    "    if  135000 > balance >= 95000 :\n",
    "        return 'middle'\n",
    "    return 'a_lot_of'\n",
    "\n",
    "\n",
    "# Функция категоризации по salary\n",
    "\n",
    "def category_salary(salary):\n",
    "    if salary < 60000:\n",
    "        return 'little'\n",
    "    if  130000 > salary >= 60000 :\n",
    "        return 'middle'\n",
    "    return 'a_lot_of'\n",
    "\n",
    "\n",
    "# Функция категоризации по age\n",
    "\n",
    "def category_age(age):\n",
    "    if age < 30:\n",
    "        return 'little'\n",
    "    if  45 > age >= 30 :\n",
    "        return 'middle'\n",
    "    return 'a_lot_of'\n",
    "\n",
    "\n",
    "# Функция категоризации по age\n",
    "\n",
    "def category_score(score):\n",
    "    if score < 584:\n",
    "        return 'little'\n",
    "    if  718 > score >= 548 :\n",
    "        return 'middle'\n",
    "    return 'a_lot_of'"
   ]
  },
  {
   "cell_type": "markdown",
   "id": "6af98f88",
   "metadata": {},
   "source": [
    "**Применим функции**"
   ]
  },
  {
   "cell_type": "code",
   "execution_count": 86,
   "id": "8a774d1a",
   "metadata": {},
   "outputs": [],
   "source": [
    "df_filtered['category_balance'] = df_filtered['balance'].apply(category_balance)\n",
    "df_filtered['category_salary'] = df_filtered['estimated_salary'].apply(category_salary)\n",
    "df_filtered['category_age'] = df_filtered['age'].apply(category_age)\n",
    "df_filtered['category_score'] = df_filtered['score'].apply(category_score)"
   ]
  },
  {
   "cell_type": "markdown",
   "id": "82a010b5",
   "metadata": {
    "scrolled": true
   },
   "source": [
    "**Проверим**"
   ]
  },
  {
   "cell_type": "code",
   "execution_count": 87,
   "id": "e0379558",
   "metadata": {},
   "outputs": [
    {
     "data": {
      "text/html": [
       "<div>\n",
       "<style scoped>\n",
       "    .dataframe tbody tr th:only-of-type {\n",
       "        vertical-align: middle;\n",
       "    }\n",
       "\n",
       "    .dataframe tbody tr th {\n",
       "        vertical-align: top;\n",
       "    }\n",
       "\n",
       "    .dataframe thead th {\n",
       "        text-align: right;\n",
       "    }\n",
       "</style>\n",
       "<table border=\"1\" class=\"dataframe\">\n",
       "  <thead>\n",
       "    <tr style=\"text-align: right;\">\n",
       "      <th></th>\n",
       "      <th>userid</th>\n",
       "      <th>score</th>\n",
       "      <th>city</th>\n",
       "      <th>gender</th>\n",
       "      <th>age</th>\n",
       "      <th>objects</th>\n",
       "      <th>balance</th>\n",
       "      <th>products</th>\n",
       "      <th>creditcard</th>\n",
       "      <th>loyalty</th>\n",
       "      <th>estimated_salary</th>\n",
       "      <th>churn</th>\n",
       "      <th>category_balance</th>\n",
       "      <th>category_salary</th>\n",
       "      <th>category_age</th>\n",
       "      <th>category_score</th>\n",
       "    </tr>\n",
       "  </thead>\n",
       "  <tbody>\n",
       "    <tr>\n",
       "      <th>0</th>\n",
       "      <td>15677338</td>\n",
       "      <td>619</td>\n",
       "      <td>Ярославль</td>\n",
       "      <td>Ж</td>\n",
       "      <td>42</td>\n",
       "      <td>2</td>\n",
       "      <td>NaN</td>\n",
       "      <td>1</td>\n",
       "      <td>1</td>\n",
       "      <td>1</td>\n",
       "      <td>101348.88</td>\n",
       "      <td>1</td>\n",
       "      <td>a_lot_of</td>\n",
       "      <td>middle</td>\n",
       "      <td>middle</td>\n",
       "      <td>middle</td>\n",
       "    </tr>\n",
       "    <tr>\n",
       "      <th>1</th>\n",
       "      <td>15690047</td>\n",
       "      <td>608</td>\n",
       "      <td>Рыбинск</td>\n",
       "      <td>Ж</td>\n",
       "      <td>41</td>\n",
       "      <td>1</td>\n",
       "      <td>83807.86</td>\n",
       "      <td>1</td>\n",
       "      <td>0</td>\n",
       "      <td>1</td>\n",
       "      <td>112542.58</td>\n",
       "      <td>0</td>\n",
       "      <td>little</td>\n",
       "      <td>middle</td>\n",
       "      <td>middle</td>\n",
       "      <td>middle</td>\n",
       "    </tr>\n",
       "    <tr>\n",
       "      <th>2</th>\n",
       "      <td>15662040</td>\n",
       "      <td>502</td>\n",
       "      <td>Ярославль</td>\n",
       "      <td>Ж</td>\n",
       "      <td>42</td>\n",
       "      <td>8</td>\n",
       "      <td>159660.80</td>\n",
       "      <td>3</td>\n",
       "      <td>1</td>\n",
       "      <td>0</td>\n",
       "      <td>113931.57</td>\n",
       "      <td>1</td>\n",
       "      <td>a_lot_of</td>\n",
       "      <td>middle</td>\n",
       "      <td>middle</td>\n",
       "      <td>little</td>\n",
       "    </tr>\n",
       "    <tr>\n",
       "      <th>3</th>\n",
       "      <td>15744090</td>\n",
       "      <td>699</td>\n",
       "      <td>Ярославль</td>\n",
       "      <td>Ж</td>\n",
       "      <td>39</td>\n",
       "      <td>1</td>\n",
       "      <td>NaN</td>\n",
       "      <td>2</td>\n",
       "      <td>0</td>\n",
       "      <td>0</td>\n",
       "      <td>93826.63</td>\n",
       "      <td>0</td>\n",
       "      <td>a_lot_of</td>\n",
       "      <td>middle</td>\n",
       "      <td>middle</td>\n",
       "      <td>middle</td>\n",
       "    </tr>\n",
       "    <tr>\n",
       "      <th>4</th>\n",
       "      <td>15780624</td>\n",
       "      <td>850</td>\n",
       "      <td>Рыбинск</td>\n",
       "      <td>Ж</td>\n",
       "      <td>43</td>\n",
       "      <td>2</td>\n",
       "      <td>125510.82</td>\n",
       "      <td>1</td>\n",
       "      <td>1</td>\n",
       "      <td>1</td>\n",
       "      <td>79084.10</td>\n",
       "      <td>0</td>\n",
       "      <td>middle</td>\n",
       "      <td>middle</td>\n",
       "      <td>middle</td>\n",
       "      <td>a_lot_of</td>\n",
       "    </tr>\n",
       "  </tbody>\n",
       "</table>\n",
       "</div>"
      ],
      "text/plain": [
       "     userid  score       city gender  age  objects    balance  products  \\\n",
       "0  15677338    619  Ярославль      Ж   42        2        NaN         1   \n",
       "1  15690047    608    Рыбинск      Ж   41        1   83807.86         1   \n",
       "2  15662040    502  Ярославль      Ж   42        8  159660.80         3   \n",
       "3  15744090    699  Ярославль      Ж   39        1        NaN         2   \n",
       "4  15780624    850    Рыбинск      Ж   43        2  125510.82         1   \n",
       "\n",
       "   creditcard  loyalty  estimated_salary  churn category_balance  \\\n",
       "0           1        1         101348.88      1         a_lot_of   \n",
       "1           0        1         112542.58      0           little   \n",
       "2           1        0         113931.57      1         a_lot_of   \n",
       "3           0        0          93826.63      0         a_lot_of   \n",
       "4           1        1          79084.10      0           middle   \n",
       "\n",
       "  category_salary category_age category_score  \n",
       "0          middle       middle         middle  \n",
       "1          middle       middle         middle  \n",
       "2          middle       middle         little  \n",
       "3          middle       middle         middle  \n",
       "4          middle       middle       a_lot_of  "
      ]
     },
     "execution_count": 87,
     "metadata": {},
     "output_type": "execute_result"
    }
   ],
   "source": [
    "df_filtered.head()"
   ]
  },
  {
   "cell_type": "markdown",
   "id": "b5d9db3a",
   "metadata": {},
   "source": [
    "## Исследовательский анализ данных"
   ]
  },
  {
   "cell_type": "markdown",
   "metadata": {},
   "source": [
    "**Рассмотрим распределения признаков в зависимости от оттока**"
   ]
  },
  {
   "cell_type": "code",
   "execution_count": 88,
   "metadata": {},
   "outputs": [
    {
     "data": {
      "image/png": "[encoded data removed]",
      "text/plain": [
       "<Figure size 1080x1440 with 10 Axes>"
      ]
     },
     "metadata": {
      "needs_background": "light"
     },
     "output_type": "display_data"
    }
   ],
   "source": [
    "col_count, row_count = 2,7\n",
    "plt.figure(figsize = (15,20))\n",
    "\n",
    "for i, j in enumerate(df.drop(['userid', 'churn'], axis=1).columns):\n",
    "    for churn in df.columns.drop('userid'):\n",
    "        try:\n",
    "            \n",
    "            current = df_filtered.query('(churn ==0)')\n",
    "            sns.histplot(current[j], bins='auto',\n",
    "                       alpha=0.4, color='grey',  ax = plt.subplot(row_count, col_count, i+1)).set_title(j.upper())\n",
    "            \n",
    "            current = df_filtered.query('(churn ==1)')\n",
    "            sns.histplot(current[j], bins='auto',\n",
    "                        alpha=0.4, color='lawngreen', ax = plt.subplot(row_count, col_count, i+1)).set_title(j.upper())\n",
    "            \n",
    "            plt.legend(labels=['остались', 'ушли'])\n",
    "            \n",
    "            plt.xlabel(None)\n",
    "            plt.ylabel(None)\n",
    "            \n",
    "        except:\n",
    "            plt.bar(df[i].unique(), df_filtered.query('(churn ==0)').groupby(i).count()['userid'], alpha=0.2, color='grey')\n",
    "            \n",
    "            plt.grid(visible=None)\n",
    "\n",
    "sns.despine()    \n",
    "plt.suptitle('Распределение значений в зависимости от оттока', fontsize= 18, y=1)\n",
    "\n",
    "plt.tight_layout() "
   ]
  },
  {
   "cell_type": "markdown",
   "metadata": {},
   "source": [
    "*Из графиков можно отметить различия распределений по* **городам, возрасту, количеству используемых продуктов и по активности** *(loyalty)*"
   ]
  },
  {
   "cell_type": "markdown",
   "metadata": {},
   "source": [
    "**Рассмотрим факторы влияющие на отток. Для этого создадим сначала список исследуемых параметров, а затем пропустих их через цикл, построив графики**"
   ]
  },
  {
   "cell_type": "code",
   "execution_count": 89,
   "metadata": {
    "scrolled": false
   },
   "outputs": [
    {
     "data": {
      "image/png": "[encoded data removed]",
      "text/plain": [
       "<Figure size 1152x1440 with 22 Axes>"
      ]
     },
     "metadata": {
      "needs_background": "light"
     },
     "output_type": "display_data"
    }
   ],
   "source": [
    "fig, axs = plt.subplots(nrows=7, ncols=2, figsize=(16, 20))\n",
    "plt.subplots_adjust(hspace=0.5)\n",
    "fig.suptitle(\"Корреляция значений в зависимости от оттока\", fontsize=18, y=0.95)\n",
    "\n",
    "for item, ax in zip(df_filtered.columns[1:].drop(['churn']), axs.ravel()):\n",
    "    try:\n",
    "        df_filtered.groupby(item).agg({'churn': 'median'}).reset_index().plot(x='churn', y=item, kind='hexbin', gridsize=20,  sharex=False, grid=True, ax=ax)\n",
    "#         plt.title(item)\n",
    "        sns.despine()\n",
    "        ax.grid(visible=None)\n",
    " \n",
    "    except:\n",
    "        df_filtered.groupby(item).agg({'churn': 'median'}).plot(ax=ax)\n",
    "#         plt.title(item)\n",
    "        sns.despine()\n",
    "#         ax.grid(visible=None)\n",
    "\n",
    "    \n",
    "\n",
    "#     ax.grid(visible=None)\n",
    "#     sns.despine()\n",
    "\n",
    "\n",
    "plt.show()"
   ]
  },
  {
   "cell_type": "markdown",
   "id": "13beb5ad",
   "metadata": {},
   "source": [
    "**Каких либо четких взаимосвязей не обнаружено**"
   ]
  },
  {
   "cell_type": "markdown",
   "id": "cc1ea603",
   "metadata": {},
   "source": [
    "**Далее посчитаем корреляцию для показателей**"
   ]
  },
  {
   "cell_type": "code",
   "execution_count": 90,
   "id": "bcda0497",
   "metadata": {
    "scrolled": false
   },
   "outputs": [
    {
     "name": "stdout",
     "output_type": "stream",
     "text": [
      "products --- 3 --- 0.258\n",
      "products --- 2 --- -0.294\n",
      "category_age --- a_lot_of --- 0.362\n"
     ]
    }
   ],
   "source": [
    "for i in df_filtered.columns[1:].drop('churn'):\n",
    "    for j in df_filtered[i].unique():\n",
    "        kk = round(df_filtered['churn'].corr(df_filtered[i] == j), 3)\n",
    "        if kk < -0.2 or kk > 0.2:\n",
    "            print(i, '---', j,  '---', kk)"
   ]
  },
  {
   "cell_type": "markdown",
   "id": "0627ee5a",
   "metadata": {},
   "source": [
    "*Наибольшие значения кореляции выдали показатели* **products со значением 3** ***(корреляция 0.258)***, **products со значением 2** ***(корреляция -0.294)*** и **category_age со значением a_lot_of** ***(корреляция 0.362)*** *остальные показатели корреляции близки к нулю, что говорит о том что линейная связь слабая либо у неё более сложный, не линейный характер*"
   ]
  },
  {
   "cell_type": "markdown",
   "metadata": {},
   "source": [
    "**Далее посчитаем % оттока по каждому показателю**"
   ]
  },
  {
   "cell_type": "code",
   "execution_count": 91,
   "metadata": {
    "scrolled": false
   },
   "outputs": [
    {
     "name": "stdout",
     "output_type": "stream",
     "text": [
      "city\n"
     ]
    },
    {
     "data": {
      "text/html": [
       "<div>\n",
       "<style scoped>\n",
       "    .dataframe tbody tr th:only-of-type {\n",
       "        vertical-align: middle;\n",
       "    }\n",
       "\n",
       "    .dataframe tbody tr th {\n",
       "        vertical-align: top;\n",
       "    }\n",
       "\n",
       "    .dataframe thead th {\n",
       "        text-align: right;\n",
       "    }\n",
       "</style>\n",
       "<table border=\"1\" class=\"dataframe\">\n",
       "  <thead>\n",
       "    <tr style=\"text-align: right;\">\n",
       "      <th></th>\n",
       "      <th>city</th>\n",
       "      <th>кол-во ушедших</th>\n",
       "      <th>общее кол-во</th>\n",
       "      <th>% ушедших</th>\n",
       "    </tr>\n",
       "  </thead>\n",
       "  <tbody>\n",
       "    <tr>\n",
       "      <th>0</th>\n",
       "      <td>Ростов Великий</td>\n",
       "      <td>772</td>\n",
       "      <td>2390</td>\n",
       "      <td>32.30</td>\n",
       "    </tr>\n",
       "    <tr>\n",
       "      <th>1</th>\n",
       "      <td>Рыбинск</td>\n",
       "      <td>373</td>\n",
       "      <td>2343</td>\n",
       "      <td>15.92</td>\n",
       "    </tr>\n",
       "    <tr>\n",
       "      <th>2</th>\n",
       "      <td>Ярославль</td>\n",
       "      <td>750</td>\n",
       "      <td>4770</td>\n",
       "      <td>15.72</td>\n",
       "    </tr>\n",
       "  </tbody>\n",
       "</table>\n",
       "</div>"
      ],
      "text/plain": [
       "             city  кол-во ушедших  общее кол-во  % ушедших\n",
       "0  Ростов Великий             772          2390      32.30\n",
       "1         Рыбинск             373          2343      15.92\n",
       "2       Ярославль             750          4770      15.72"
      ]
     },
     "metadata": {},
     "output_type": "display_data"
    },
    {
     "name": "stdout",
     "output_type": "stream",
     "text": [
      "\n",
      "gender\n"
     ]
    },
    {
     "data": {
      "text/html": [
       "<div>\n",
       "<style scoped>\n",
       "    .dataframe tbody tr th:only-of-type {\n",
       "        vertical-align: middle;\n",
       "    }\n",
       "\n",
       "    .dataframe tbody tr th {\n",
       "        vertical-align: top;\n",
       "    }\n",
       "\n",
       "    .dataframe thead th {\n",
       "        text-align: right;\n",
       "    }\n",
       "</style>\n",
       "<table border=\"1\" class=\"dataframe\">\n",
       "  <thead>\n",
       "    <tr style=\"text-align: right;\">\n",
       "      <th></th>\n",
       "      <th>gender</th>\n",
       "      <th>кол-во ушедших</th>\n",
       "      <th>общее кол-во</th>\n",
       "      <th>% ушедших</th>\n",
       "    </tr>\n",
       "  </thead>\n",
       "  <tbody>\n",
       "    <tr>\n",
       "      <th>0</th>\n",
       "      <td>Ж</td>\n",
       "      <td>1058</td>\n",
       "      <td>4308</td>\n",
       "      <td>24.56</td>\n",
       "    </tr>\n",
       "    <tr>\n",
       "      <th>1</th>\n",
       "      <td>М</td>\n",
       "      <td>837</td>\n",
       "      <td>5195</td>\n",
       "      <td>16.11</td>\n",
       "    </tr>\n",
       "  </tbody>\n",
       "</table>\n",
       "</div>"
      ],
      "text/plain": [
       "  gender  кол-во ушедших  общее кол-во  % ушедших\n",
       "0      Ж            1058          4308      24.56\n",
       "1      М             837          5195      16.11"
      ]
     },
     "metadata": {},
     "output_type": "display_data"
    },
    {
     "name": "stdout",
     "output_type": "stream",
     "text": [
      "\n",
      "objects\n"
     ]
    },
    {
     "data": {
      "text/html": [
       "<div>\n",
       "<style scoped>\n",
       "    .dataframe tbody tr th:only-of-type {\n",
       "        vertical-align: middle;\n",
       "    }\n",
       "\n",
       "    .dataframe tbody tr th {\n",
       "        vertical-align: top;\n",
       "    }\n",
       "\n",
       "    .dataframe thead th {\n",
       "        text-align: right;\n",
       "    }\n",
       "</style>\n",
       "<table border=\"1\" class=\"dataframe\">\n",
       "  <thead>\n",
       "    <tr style=\"text-align: right;\">\n",
       "      <th></th>\n",
       "      <th>objects</th>\n",
       "      <th>кол-во ушедших</th>\n",
       "      <th>общее кол-во</th>\n",
       "      <th>% ушедших</th>\n",
       "    </tr>\n",
       "  </thead>\n",
       "  <tbody>\n",
       "    <tr>\n",
       "      <th>0</th>\n",
       "      <td>0</td>\n",
       "      <td>89</td>\n",
       "      <td>390</td>\n",
       "      <td>22.82</td>\n",
       "    </tr>\n",
       "    <tr>\n",
       "      <th>1</th>\n",
       "      <td>1</td>\n",
       "      <td>213</td>\n",
       "      <td>979</td>\n",
       "      <td>21.76</td>\n",
       "    </tr>\n",
       "    <tr>\n",
       "      <th>2</th>\n",
       "      <td>9</td>\n",
       "      <td>198</td>\n",
       "      <td>929</td>\n",
       "      <td>21.31</td>\n",
       "    </tr>\n",
       "    <tr>\n",
       "      <th>3</th>\n",
       "      <td>10</td>\n",
       "      <td>95</td>\n",
       "      <td>462</td>\n",
       "      <td>20.56</td>\n",
       "    </tr>\n",
       "    <tr>\n",
       "      <th>4</th>\n",
       "      <td>3</td>\n",
       "      <td>194</td>\n",
       "      <td>953</td>\n",
       "      <td>20.36</td>\n",
       "    </tr>\n",
       "    <tr>\n",
       "      <th>5</th>\n",
       "      <td>5</td>\n",
       "      <td>194</td>\n",
       "      <td>961</td>\n",
       "      <td>20.19</td>\n",
       "    </tr>\n",
       "    <tr>\n",
       "      <th>6</th>\n",
       "      <td>4</td>\n",
       "      <td>190</td>\n",
       "      <td>943</td>\n",
       "      <td>20.15</td>\n",
       "    </tr>\n",
       "    <tr>\n",
       "      <th>7</th>\n",
       "      <td>6</td>\n",
       "      <td>183</td>\n",
       "      <td>920</td>\n",
       "      <td>19.89</td>\n",
       "    </tr>\n",
       "    <tr>\n",
       "      <th>8</th>\n",
       "      <td>2</td>\n",
       "      <td>189</td>\n",
       "      <td>996</td>\n",
       "      <td>18.98</td>\n",
       "    </tr>\n",
       "    <tr>\n",
       "      <th>9</th>\n",
       "      <td>8</td>\n",
       "      <td>184</td>\n",
       "      <td>983</td>\n",
       "      <td>18.72</td>\n",
       "    </tr>\n",
       "    <tr>\n",
       "      <th>10</th>\n",
       "      <td>7</td>\n",
       "      <td>166</td>\n",
       "      <td>987</td>\n",
       "      <td>16.82</td>\n",
       "    </tr>\n",
       "  </tbody>\n",
       "</table>\n",
       "</div>"
      ],
      "text/plain": [
       "    objects  кол-во ушедших  общее кол-во  % ушедших\n",
       "0         0              89           390      22.82\n",
       "1         1             213           979      21.76\n",
       "2         9             198           929      21.31\n",
       "3        10              95           462      20.56\n",
       "4         3             194           953      20.36\n",
       "5         5             194           961      20.19\n",
       "6         4             190           943      20.15\n",
       "7         6             183           920      19.89\n",
       "8         2             189           996      18.98\n",
       "9         8             184           983      18.72\n",
       "10        7             166           987      16.82"
      ]
     },
     "metadata": {},
     "output_type": "display_data"
    },
    {
     "name": "stdout",
     "output_type": "stream",
     "text": [
      "\n",
      "products\n"
     ]
    },
    {
     "data": {
      "text/html": [
       "<div>\n",
       "<style scoped>\n",
       "    .dataframe tbody tr th:only-of-type {\n",
       "        vertical-align: middle;\n",
       "    }\n",
       "\n",
       "    .dataframe tbody tr th {\n",
       "        vertical-align: top;\n",
       "    }\n",
       "\n",
       "    .dataframe thead th {\n",
       "        text-align: right;\n",
       "    }\n",
       "</style>\n",
       "<table border=\"1\" class=\"dataframe\">\n",
       "  <thead>\n",
       "    <tr style=\"text-align: right;\">\n",
       "      <th></th>\n",
       "      <th>products</th>\n",
       "      <th>кол-во ушедших</th>\n",
       "      <th>общее кол-во</th>\n",
       "      <th>% ушедших</th>\n",
       "    </tr>\n",
       "  </thead>\n",
       "  <tbody>\n",
       "    <tr>\n",
       "      <th>0</th>\n",
       "      <td>4</td>\n",
       "      <td>58</td>\n",
       "      <td>58</td>\n",
       "      <td>100.00</td>\n",
       "    </tr>\n",
       "    <tr>\n",
       "      <th>1</th>\n",
       "      <td>3</td>\n",
       "      <td>205</td>\n",
       "      <td>247</td>\n",
       "      <td>83.00</td>\n",
       "    </tr>\n",
       "    <tr>\n",
       "      <th>2</th>\n",
       "      <td>1</td>\n",
       "      <td>1313</td>\n",
       "      <td>4805</td>\n",
       "      <td>27.33</td>\n",
       "    </tr>\n",
       "    <tr>\n",
       "      <th>3</th>\n",
       "      <td>2</td>\n",
       "      <td>319</td>\n",
       "      <td>4393</td>\n",
       "      <td>7.26</td>\n",
       "    </tr>\n",
       "  </tbody>\n",
       "</table>\n",
       "</div>"
      ],
      "text/plain": [
       "   products  кол-во ушедших  общее кол-во  % ушедших\n",
       "0         4              58            58     100.00\n",
       "1         3             205           247      83.00\n",
       "2         1            1313          4805      27.33\n",
       "3         2             319          4393       7.26"
      ]
     },
     "metadata": {},
     "output_type": "display_data"
    },
    {
     "name": "stdout",
     "output_type": "stream",
     "text": [
      "\n",
      "creditcard\n"
     ]
    },
    {
     "data": {
      "text/html": [
       "<div>\n",
       "<style scoped>\n",
       "    .dataframe tbody tr th:only-of-type {\n",
       "        vertical-align: middle;\n",
       "    }\n",
       "\n",
       "    .dataframe tbody tr th {\n",
       "        vertical-align: top;\n",
       "    }\n",
       "\n",
       "    .dataframe thead th {\n",
       "        text-align: right;\n",
       "    }\n",
       "</style>\n",
       "<table border=\"1\" class=\"dataframe\">\n",
       "  <thead>\n",
       "    <tr style=\"text-align: right;\">\n",
       "      <th></th>\n",
       "      <th>creditcard</th>\n",
       "      <th>кол-во ушедших</th>\n",
       "      <th>общее кол-во</th>\n",
       "      <th>% ушедших</th>\n",
       "    </tr>\n",
       "  </thead>\n",
       "  <tbody>\n",
       "    <tr>\n",
       "      <th>0</th>\n",
       "      <td>0</td>\n",
       "      <td>566</td>\n",
       "      <td>2790</td>\n",
       "      <td>20.29</td>\n",
       "    </tr>\n",
       "    <tr>\n",
       "      <th>1</th>\n",
       "      <td>1</td>\n",
       "      <td>1329</td>\n",
       "      <td>6713</td>\n",
       "      <td>19.80</td>\n",
       "    </tr>\n",
       "  </tbody>\n",
       "</table>\n",
       "</div>"
      ],
      "text/plain": [
       "   creditcard  кол-во ушедших  общее кол-во  % ушедших\n",
       "0           0             566          2790      20.29\n",
       "1           1            1329          6713      19.80"
      ]
     },
     "metadata": {},
     "output_type": "display_data"
    },
    {
     "name": "stdout",
     "output_type": "stream",
     "text": [
      "\n",
      "loyalty\n"
     ]
    },
    {
     "data": {
      "text/html": [
       "<div>\n",
       "<style scoped>\n",
       "    .dataframe tbody tr th:only-of-type {\n",
       "        vertical-align: middle;\n",
       "    }\n",
       "\n",
       "    .dataframe tbody tr th {\n",
       "        vertical-align: top;\n",
       "    }\n",
       "\n",
       "    .dataframe thead th {\n",
       "        text-align: right;\n",
       "    }\n",
       "</style>\n",
       "<table border=\"1\" class=\"dataframe\">\n",
       "  <thead>\n",
       "    <tr style=\"text-align: right;\">\n",
       "      <th></th>\n",
       "      <th>loyalty</th>\n",
       "      <th>кол-во ушедших</th>\n",
       "      <th>общее кол-во</th>\n",
       "      <th>% ушедших</th>\n",
       "    </tr>\n",
       "  </thead>\n",
       "  <tbody>\n",
       "    <tr>\n",
       "      <th>0</th>\n",
       "      <td>0</td>\n",
       "      <td>1213</td>\n",
       "      <td>4724</td>\n",
       "      <td>25.68</td>\n",
       "    </tr>\n",
       "    <tr>\n",
       "      <th>1</th>\n",
       "      <td>1</td>\n",
       "      <td>682</td>\n",
       "      <td>4779</td>\n",
       "      <td>14.27</td>\n",
       "    </tr>\n",
       "  </tbody>\n",
       "</table>\n",
       "</div>"
      ],
      "text/plain": [
       "   loyalty  кол-во ушедших  общее кол-во  % ушедших\n",
       "0        0            1213          4724      25.68\n",
       "1        1             682          4779      14.27"
      ]
     },
     "metadata": {},
     "output_type": "display_data"
    },
    {
     "name": "stdout",
     "output_type": "stream",
     "text": [
      "\n",
      "category_balance\n"
     ]
    },
    {
     "data": {
      "text/html": [
       "<div>\n",
       "<style scoped>\n",
       "    .dataframe tbody tr th:only-of-type {\n",
       "        vertical-align: middle;\n",
       "    }\n",
       "\n",
       "    .dataframe tbody tr th {\n",
       "        vertical-align: top;\n",
       "    }\n",
       "\n",
       "    .dataframe thead th {\n",
       "        text-align: right;\n",
       "    }\n",
       "</style>\n",
       "<table border=\"1\" class=\"dataframe\">\n",
       "  <thead>\n",
       "    <tr style=\"text-align: right;\">\n",
       "      <th></th>\n",
       "      <th>category_balance</th>\n",
       "      <th>кол-во ушедших</th>\n",
       "      <th>общее кол-во</th>\n",
       "      <th>% ушедших</th>\n",
       "    </tr>\n",
       "  </thead>\n",
       "  <tbody>\n",
       "    <tr>\n",
       "      <th>0</th>\n",
       "      <td>middle</td>\n",
       "      <td>798</td>\n",
       "      <td>3107</td>\n",
       "      <td>25.68</td>\n",
       "    </tr>\n",
       "    <tr>\n",
       "      <th>1</th>\n",
       "      <td>little</td>\n",
       "      <td>227</td>\n",
       "      <td>1147</td>\n",
       "      <td>19.79</td>\n",
       "    </tr>\n",
       "    <tr>\n",
       "      <th>2</th>\n",
       "      <td>a_lot_of</td>\n",
       "      <td>870</td>\n",
       "      <td>5249</td>\n",
       "      <td>16.57</td>\n",
       "    </tr>\n",
       "  </tbody>\n",
       "</table>\n",
       "</div>"
      ],
      "text/plain": [
       "  category_balance  кол-во ушедших  общее кол-во  % ушедших\n",
       "0           middle             798          3107      25.68\n",
       "1           little             227          1147      19.79\n",
       "2         a_lot_of             870          5249      16.57"
      ]
     },
     "metadata": {},
     "output_type": "display_data"
    },
    {
     "name": "stdout",
     "output_type": "stream",
     "text": [
      "\n",
      "category_salary\n"
     ]
    },
    {
     "data": {
      "text/html": [
       "<div>\n",
       "<style scoped>\n",
       "    .dataframe tbody tr th:only-of-type {\n",
       "        vertical-align: middle;\n",
       "    }\n",
       "\n",
       "    .dataframe tbody tr th {\n",
       "        vertical-align: top;\n",
       "    }\n",
       "\n",
       "    .dataframe thead th {\n",
       "        text-align: right;\n",
       "    }\n",
       "</style>\n",
       "<table border=\"1\" class=\"dataframe\">\n",
       "  <thead>\n",
       "    <tr style=\"text-align: right;\">\n",
       "      <th></th>\n",
       "      <th>category_salary</th>\n",
       "      <th>кол-во ушедших</th>\n",
       "      <th>общее кол-во</th>\n",
       "      <th>% ушедших</th>\n",
       "    </tr>\n",
       "  </thead>\n",
       "  <tbody>\n",
       "    <tr>\n",
       "      <th>0</th>\n",
       "      <td>a_lot_of</td>\n",
       "      <td>683</td>\n",
       "      <td>3304</td>\n",
       "      <td>20.67</td>\n",
       "    </tr>\n",
       "    <tr>\n",
       "      <th>1</th>\n",
       "      <td>little</td>\n",
       "      <td>551</td>\n",
       "      <td>2813</td>\n",
       "      <td>19.59</td>\n",
       "    </tr>\n",
       "    <tr>\n",
       "      <th>2</th>\n",
       "      <td>middle</td>\n",
       "      <td>661</td>\n",
       "      <td>3386</td>\n",
       "      <td>19.52</td>\n",
       "    </tr>\n",
       "  </tbody>\n",
       "</table>\n",
       "</div>"
      ],
      "text/plain": [
       "  category_salary  кол-во ушедших  общее кол-во  % ушедших\n",
       "0        a_lot_of             683          3304      20.67\n",
       "1          little             551          2813      19.59\n",
       "2          middle             661          3386      19.52"
      ]
     },
     "metadata": {},
     "output_type": "display_data"
    },
    {
     "name": "stdout",
     "output_type": "stream",
     "text": [
      "\n",
      "category_age\n"
     ]
    },
    {
     "data": {
      "text/html": [
       "<div>\n",
       "<style scoped>\n",
       "    .dataframe tbody tr th:only-of-type {\n",
       "        vertical-align: middle;\n",
       "    }\n",
       "\n",
       "    .dataframe tbody tr th {\n",
       "        vertical-align: top;\n",
       "    }\n",
       "\n",
       "    .dataframe thead th {\n",
       "        text-align: right;\n",
       "    }\n",
       "</style>\n",
       "<table border=\"1\" class=\"dataframe\">\n",
       "  <thead>\n",
       "    <tr style=\"text-align: right;\">\n",
       "      <th></th>\n",
       "      <th>category_age</th>\n",
       "      <th>кол-во ушедших</th>\n",
       "      <th>общее кол-во</th>\n",
       "      <th>% ушедших</th>\n",
       "    </tr>\n",
       "  </thead>\n",
       "  <tbody>\n",
       "    <tr>\n",
       "      <th>0</th>\n",
       "      <td>a_lot_of</td>\n",
       "      <td>931</td>\n",
       "      <td>1909</td>\n",
       "      <td>48.77</td>\n",
       "    </tr>\n",
       "    <tr>\n",
       "      <th>1</th>\n",
       "      <td>middle</td>\n",
       "      <td>846</td>\n",
       "      <td>5965</td>\n",
       "      <td>14.18</td>\n",
       "    </tr>\n",
       "    <tr>\n",
       "      <th>2</th>\n",
       "      <td>little</td>\n",
       "      <td>118</td>\n",
       "      <td>1629</td>\n",
       "      <td>7.24</td>\n",
       "    </tr>\n",
       "  </tbody>\n",
       "</table>\n",
       "</div>"
      ],
      "text/plain": [
       "  category_age  кол-во ушедших  общее кол-во  % ушедших\n",
       "0     a_lot_of             931          1909      48.77\n",
       "1       middle             846          5965      14.18\n",
       "2       little             118          1629       7.24"
      ]
     },
     "metadata": {},
     "output_type": "display_data"
    },
    {
     "name": "stdout",
     "output_type": "stream",
     "text": [
      "\n",
      "category_score\n"
     ]
    },
    {
     "data": {
      "text/html": [
       "<div>\n",
       "<style scoped>\n",
       "    .dataframe tbody tr th:only-of-type {\n",
       "        vertical-align: middle;\n",
       "    }\n",
       "\n",
       "    .dataframe tbody tr th {\n",
       "        vertical-align: top;\n",
       "    }\n",
       "\n",
       "    .dataframe thead th {\n",
       "        text-align: right;\n",
       "    }\n",
       "</style>\n",
       "<table border=\"1\" class=\"dataframe\">\n",
       "  <thead>\n",
       "    <tr style=\"text-align: right;\">\n",
       "      <th></th>\n",
       "      <th>category_score</th>\n",
       "      <th>кол-во ушедших</th>\n",
       "      <th>общее кол-во</th>\n",
       "      <th>% ушедших</th>\n",
       "    </tr>\n",
       "  </thead>\n",
       "  <tbody>\n",
       "    <tr>\n",
       "      <th>0</th>\n",
       "      <td>little</td>\n",
       "      <td>497</td>\n",
       "      <td>2367</td>\n",
       "      <td>21.00</td>\n",
       "    </tr>\n",
       "    <tr>\n",
       "      <th>1</th>\n",
       "      <td>a_lot_of</td>\n",
       "      <td>475</td>\n",
       "      <td>2376</td>\n",
       "      <td>19.99</td>\n",
       "    </tr>\n",
       "    <tr>\n",
       "      <th>2</th>\n",
       "      <td>middle</td>\n",
       "      <td>923</td>\n",
       "      <td>4760</td>\n",
       "      <td>19.39</td>\n",
       "    </tr>\n",
       "  </tbody>\n",
       "</table>\n",
       "</div>"
      ],
      "text/plain": [
       "  category_score  кол-во ушедших  общее кол-во  % ушедших\n",
       "0         little             497          2367      21.00\n",
       "1       a_lot_of             475          2376      19.99\n",
       "2         middle             923          4760      19.39"
      ]
     },
     "metadata": {},
     "output_type": "display_data"
    },
    {
     "name": "stdout",
     "output_type": "stream",
     "text": [
      "\n"
     ]
    }
   ],
   "source": [
    "for i in df_filtered.columns.drop(['userid', 'score', 'churn', 'balance', 'estimated_salary', 'age']):\n",
    "    svodn = df_filtered\\\n",
    "        .groupby(['churn', i])\\\n",
    "        .agg({'userid':'count'})\\\n",
    "        .rename(columns={'userid': 'кол-во ушедших'})\\\n",
    "        .reset_index()\\\n",
    "            .merge(df_filtered\\\n",
    "                   .groupby([i])\\\n",
    "                   .agg({'userid':'count'})\\\n",
    "                   .rename(columns={'userid': 'общее кол-во'})\\\n",
    "                   .reset_index(), on=i)\n",
    "    svodn['% ушедших'] = round(svodn['кол-во ушедших'] / svodn['общее кол-во'] * 100, 2)\n",
    "    print(i)\n",
    "    display(svodn.query('churn==1').sort_values('% ушедших', ascending=False).iloc[:,1:].reset_index(drop=True))\n",
    "    print()"
   ]
  },
  {
   "cell_type": "markdown",
   "metadata": {},
   "source": [
    "**Рассчитав процент оттока по каждому показателю можно выделить следующие моменты:**\n",
    "\n",
    "- в Ростове Великом отток клиентов составляет 1/3;\n",
    "- женщины (примерно 1/4 от общего числа клиентов);\n",
    "- количество продуктов, которыми пользуется клиент 3 или 4 (это максимальный показатель из наших данных);\n",
    "- средний баланс счете (1/4 от общего числа клиентов)\n",
    "- неактивный клиент (показатель loyalty равен 0);\n",
    "- старшая возрастная группа."
   ]
  },
  {
   "cell_type": "markdown",
   "metadata": {},
   "source": [
    "Таким образом, суммирую выше произведенные расчеты можно сказать, что в портрете клиентов склонных к оттоку можно отнести следующие черты:\n",
    "- высокие показатели используемых продуктов банка;\n",
    "- старшая возрастная группа (от 45)."
   ]
  },
  {
   "cell_type": "markdown",
   "metadata": {},
   "source": [
    "## Проверка статистических гипотез"
   ]
  },
  {
   "cell_type": "markdown",
   "metadata": {},
   "source": [
    "Проверим гипотезу о том различаются ли доходы клиентов, которые ушли и тех, которые остались:\n",
    "\n",
    "    H0 - среднии доходы оставшихся клиентов и ушедших одинаковы\n",
    "    H1 - среднии доходы оставшихся клиентов и ушедших отличаются\n",
    "\n",
    "    Уровень значимости:  α=0.05"
   ]
  },
  {
   "cell_type": "markdown",
   "metadata": {},
   "source": [
    "**Так как наши выборки независимы, то использовать будем метод** *st.ttest_ind* **для проверки двусторонней гипотезы**"
   ]
  },
  {
   "cell_type": "code",
   "execution_count": 92,
   "metadata": {
    "scrolled": true
   },
   "outputs": [
    {
     "name": "stdout",
     "output_type": "stream",
     "text": [
      "p-значение:  0.42282120598603146\n",
      "Не получилось отвергнуть нулевую гипотезу\n"
     ]
    }
   ],
   "source": [
    "results = st.ttest_ind(df_filtered.query('churn == 1')['estimated_salary'], \n",
    "                       df_filtered.query('churn == 0')['estimated_salary'])\n",
    "alpha = .05\n",
    "print('p-значение: ', results.pvalue)\n",
    "\n",
    "if results.pvalue < alpha:\n",
    "    print(\"Отвергаем нулевую гипотезу\")\n",
    "else:\n",
    "    print(\"Не получилось отвергнуть нулевую гипотезу\") "
   ]
  },
  {
   "cell_type": "markdown",
   "metadata": {},
   "source": [
    "**Таким образом, не отвергнув нулевую гипотезу можно предположить, что среднии доходы ушедших клиентов и тех кто остался одинаковы**"
   ]
  },
  {
   "cell_type": "markdown",
   "metadata": {},
   "source": [
    "Проверим гипотезу о том различается ли возраст клиентов, которые ушли и тех, которые остались:\n",
    "\n",
    "    H0 - средний возраст оставшихся клиентов и ушедших одинаковы\n",
    "    H1 - средний возраст оставшихся клиентов и ушедших отличаются\n",
    "\n",
    "    Уровень значимости:  α=0.05"
   ]
  },
  {
   "cell_type": "code",
   "execution_count": 93,
   "metadata": {},
   "outputs": [
    {
     "name": "stdout",
     "output_type": "stream",
     "text": [
      "p-значение:  2.800080891868105e-289\n",
      "Отвергаем нулевую гипотезу\n"
     ]
    }
   ],
   "source": [
    "results = st.ttest_ind(df_filtered.query('churn == 1')['age'], \n",
    "                       df_filtered.query('churn == 0')['age'])\n",
    "alpha = .05\n",
    "print('p-значение: ', results.pvalue)\n",
    "\n",
    "if results.pvalue < alpha:\n",
    "    print(\"Отвергаем нулевую гипотезу\")\n",
    "else:\n",
    "    print(\"Не получилось отвергнуть нулевую гипотезу\") "
   ]
  },
  {
   "cell_type": "markdown",
   "metadata": {},
   "source": [
    "**Так как нулевую гипотезу мы отвергли, то можно сделать предположение, что возраст клиентов влияет на отток**"
   ]
  },
  {
   "cell_type": "markdown",
   "metadata": {},
   "source": [
    "Проверим гипотезу о том различаются ли доли ушедших клиентов которые пользуются разным количеством банковских продуктов:\n",
    "\n",
    "    H0 - доля ушедших клиентов которые пользуется разным количеством банковских продуктов одинаковы\n",
    "    H1 - доля ушедших клиентов которые пользуется разным количеством банковских продуктов отличаются\n",
    "\n",
    "    Уровень значимости:  α=0.05"
   ]
  },
  {
   "cell_type": "code",
   "execution_count": 94,
   "metadata": {},
   "outputs": [
    {
     "name": "stdout",
     "output_type": "stream",
     "text": [
      "p-значение:  0.0\n",
      "Отвергаем нулевую гипотезу: между долями есть значимая разница\n"
     ]
    }
   ],
   "source": [
    "purchases = np.array([df_filtered.query('products > 2').groupby('churn').count().iloc[1, :1].iloc[0], df_filtered.query('products < 3').groupby('churn').count().iloc[1, :1].iloc[0]])\n",
    "\n",
    "leads = np.array([df_filtered.query('products > 2').groupby('churn').count().iloc[:, :1].sum()[0], df_filtered.query('products< 3').groupby('churn').count().iloc[:, :1].sum()[0]])\n",
    "\n",
    "alpha = 0.05  # критический уровень статистической значимости\n",
    "\n",
    "p1 = purchases[0]/leads[0]\n",
    "\n",
    "# пропорция успехов во второй группе:\n",
    "p2 = purchases[1]/leads[1]\n",
    "\n",
    "# ваш код\n",
    "p_combined  = (purchases[0] +purchases[1]) / (leads[0] + leads[1])\n",
    "difference = p1 - p2 \n",
    "z_value = difference / mth.sqrt(p_combined * (1 - p_combined) * (1/leads[0] + 1/leads[1]))\n",
    "# ваш код\n",
    "distr = st.norm(0, 1)\n",
    "# ваш код\n",
    "\n",
    "p_value = (1 - distr.cdf(abs(z_value))) * 2 # ваш код\n",
    "\n",
    "print('p-значение: ', p_value)\n",
    "\n",
    "if p_value < alpha: # ваш код\n",
    "    print('Отвергаем нулевую гипотезу: между долями есть значимая разница')\n",
    "else:\n",
    "    print(\n",
    "        'Не получилось отвергнуть нулевую гипотезу, нет оснований считать доли разными'\n",
    "    )"
   ]
  },
  {
   "cell_type": "markdown",
   "metadata": {},
   "source": [
    "**Так как нулевую гипотезу мы отвергли, то можно сделать предположение, что между ушедшими клиентами пользующихся разным количеством банковских продуктов есть значимая разница**"
   ]
  },
  {
   "cell_type": "markdown",
   "metadata": {},
   "source": [
    "## Выводы"
   ]
  },
  {
   "cell_type": "markdown",
   "metadata": {},
   "source": [
    "  В результате проведенного исследлования можем сказать следующее:\n",
    "- в логе есть 10000 наблюдений;\n",
    "- в данных имеются пропуски (3617);\n",
    "- в данных имеются выбросы;\n",
    "- анализ пропущенных значений показал:\n",
    "   - что в Ростове Великом нет пропущенных значений;\n",
    "   - распределение значений в данных с пропусками и без пропусков по всем остальным показателям не отличаются;\n",
    "- произвели чистку данных от выбросов;\n",
    "- провели категоризацию данных по возрасту, балансу на счёте, заработной плате клиента, баллам кредитного скоринга;\n",
    "\n",
    "\n",
    "- В результате анализа распределений показателей в зависимости от оттока может отметить различия по городам, возрасту, количеству используемых продуктов и по активности (loyalty);\n",
    "\n",
    "\n",
    "- По результатам корреляционного анализа наибольшие значения взаимосвязи между оттоком и показателями пришлись на следующее:\n",
    "    - products           **3**        `0.258`\n",
    "    - products           **2**       `-0.294`\n",
    "    - category_age    **a_lot_of**    `0.362`\n",
    "\n",
    "\n",
    "- Остальные показатели корреляции близки к нулю, что говорит о том что линейная связь слабая либо у неё более сложный, не линейный характер\n",
    "\n",
    "\n",
    "- В результате анализа оттока по каждому показателю можно отметить следующие моменты:\n",
    "    - в Ростове Великом отток клиентов составляет 1/3;\n",
    "    - женщины (примерно 1/4 от общего числа клиентов);\n",
    "    - средний баланс счете (1/4 от общего числа клиентов)\n",
    "    - количество продуктов, которыми пользуется клиент 3 или 4 (это максимальный показатель из наших данных);\n",
    "    - неактивный клиент (показатель loyalty равен 0);\n",
    "    - старшая возрастная группа.\n",
    "\n",
    "\n",
    "- Учитывая корреляционный анализ и анализ распределений можно сказать, что в портрете клиентов склонных к оттоку можно отнести следующие черты:\n",
    "    - высокие показатели используемых продуктов банка;\n",
    "    - старшая возрастная группа (от 45).\n",
    "\n",
    "\n",
    "Также в исследовании были проверены статистические гипотезы:\n",
    "- 1) Гипотеза различия дохода между теми клиентами, которые ушли и теми, которые остались. Разница не оказалась значимой.\n",
    "- 2) Гипотеза о различии возраста клиентов, которые ушли и тех, которые остались. Разница оказалась значимой.\n",
    "- 3) Гипотеза о различии долей ушедших клиентов пользующихся разным количеством банковских продуктов. \n",
    "- При проверке статистических гипотез мы использовали уровень значимости равный 0,05\n",
    "\n",
    "\n",
    "\n",
    "Таким образом, в целях снижения оттока клиентов можно предложить следующие шаги:\n",
    "- проработать качественно существующие продукты (изменения в сторону упрощения получения и использования услуг);\n",
    "- разработать (изменить существующую) систему лояльности для активных клиентов:\n",
    "    - возможные изменения условий на существующие продукты;\n",
    "    - повышение ставки вклада;\n",
    "    - предложение новых/дополнительных услуг.\n",
    "- проработать систему консультаций/коммуникации для людей старшего возраста.\n"
   ]
  }
 ],
 "metadata": {
  "ExecuteTimeLog": [
   {
    "duration": 1297,
    "start_time": "2022-07-21T09:48:46.983Z"
   },
   {
    "duration": 94,
    "start_time": "2022-07-21T09:48:49.231Z"
   },
   {
    "duration": 15,
    "start_time": "2022-07-21T09:48:51.071Z"
   },
   {
    "duration": 4,
    "start_time": "2022-07-21T09:48:53.031Z"
   },
   {
    "duration": 328856,
    "start_time": "2022-07-21T09:48:56.312Z"
   },
   {
    "duration": 30,
    "start_time": "2022-07-21T09:54:25.170Z"
   },
   {
    "duration": 1290,
    "start_time": "2022-07-23T07:44:23.909Z"
   },
   {
    "duration": 81,
    "start_time": "2022-07-23T07:44:36.935Z"
   },
   {
    "duration": 22,
    "start_time": "2022-07-23T07:45:00.456Z"
   },
   {
    "duration": 4,
    "start_time": "2022-07-23T07:45:16.767Z"
   },
   {
    "duration": 12,
    "start_time": "2022-07-23T07:45:58.295Z"
   },
   {
    "duration": 5,
    "start_time": "2022-07-23T07:46:16.167Z"
   },
   {
    "duration": 28,
    "start_time": "2022-07-23T07:46:35.464Z"
   },
   {
    "duration": 6,
    "start_time": "2022-07-23T07:47:28.662Z"
   },
   {
    "duration": 2537,
    "start_time": "2022-07-23T07:47:56.271Z"
   },
   {
    "duration": 565,
    "start_time": "2022-07-23T07:48:18.504Z"
   },
   {
    "duration": 4507,
    "start_time": "2022-07-23T07:49:05.659Z"
   },
   {
    "duration": 111,
    "start_time": "2022-07-23T07:49:32.665Z"
   },
   {
    "duration": 1160,
    "start_time": "2022-07-23T07:50:02.728Z"
   },
   {
    "duration": 3,
    "start_time": "2022-07-23T07:50:19.423Z"
   },
   {
    "duration": 69,
    "start_time": "2022-07-23T07:50:43.895Z"
   },
   {
    "duration": 72,
    "start_time": "2022-07-23T07:50:46.271Z"
   },
   {
    "duration": 9,
    "start_time": "2022-07-23T07:51:22.208Z"
   },
   {
    "duration": 12,
    "start_time": "2022-07-23T07:51:23.933Z"
   },
   {
    "duration": 4076,
    "start_time": "2022-07-23T07:51:28.903Z"
   },
   {
    "duration": 4,
    "start_time": "2022-07-23T07:51:44.656Z"
   },
   {
    "duration": 15,
    "start_time": "2022-07-23T07:51:46.831Z"
   },
   {
    "duration": 20,
    "start_time": "2022-07-23T07:52:00.730Z"
   },
   {
    "duration": 4887,
    "start_time": "2022-07-23T07:52:05.575Z"
   },
   {
    "duration": 2866,
    "start_time": "2022-07-23T07:52:22.663Z"
   },
   {
    "duration": 7405,
    "start_time": "2022-07-23T07:52:38.260Z"
   },
   {
    "duration": 206,
    "start_time": "2022-07-23T07:52:49.034Z"
   },
   {
    "duration": 10,
    "start_time": "2022-07-23T07:53:16.279Z"
   },
   {
    "duration": 10,
    "start_time": "2022-07-23T07:53:29.030Z"
   },
   {
    "duration": 10,
    "start_time": "2022-07-23T07:53:33.576Z"
   },
   {
    "duration": 4018,
    "start_time": "2022-07-23T08:35:41.399Z"
   },
   {
    "duration": 4918,
    "start_time": "2022-07-23T09:32:34.955Z"
   },
   {
    "duration": 227,
    "start_time": "2022-07-23T09:45:25.814Z"
   },
   {
    "duration": 3,
    "start_time": "2022-07-23T09:55:49.612Z"
   },
   {
    "duration": 43,
    "start_time": "2022-07-23T09:55:51.390Z"
   },
   {
    "duration": 12,
    "start_time": "2022-07-23T09:55:52.750Z"
   },
   {
    "duration": 3,
    "start_time": "2022-07-23T09:55:54.054Z"
   },
   {
    "duration": 11,
    "start_time": "2022-07-23T09:55:55.199Z"
   },
   {
    "duration": 4,
    "start_time": "2022-07-23T09:55:58.406Z"
   },
   {
    "duration": 28,
    "start_time": "2022-07-23T09:55:59.863Z"
   },
   {
    "duration": 4,
    "start_time": "2022-07-23T09:56:07.203Z"
   },
   {
    "duration": 46,
    "start_time": "2022-07-23T09:56:07.209Z"
   },
   {
    "duration": 11,
    "start_time": "2022-07-23T09:56:07.256Z"
   },
   {
    "duration": 7,
    "start_time": "2022-07-23T09:56:07.269Z"
   },
   {
    "duration": 15,
    "start_time": "2022-07-23T09:56:07.277Z"
   },
   {
    "duration": 7,
    "start_time": "2022-07-23T09:56:07.293Z"
   },
   {
    "duration": 37,
    "start_time": "2022-07-23T09:56:07.301Z"
   },
   {
    "duration": 5,
    "start_time": "2022-07-23T09:56:07.340Z"
   },
   {
    "duration": 2738,
    "start_time": "2022-07-23T09:56:07.347Z"
   },
   {
    "duration": 574,
    "start_time": "2022-07-23T09:56:10.088Z"
   },
   {
    "duration": 4535,
    "start_time": "2022-07-23T09:56:10.664Z"
   },
   {
    "duration": 110,
    "start_time": "2022-07-23T09:56:15.201Z"
   },
   {
    "duration": 1071,
    "start_time": "2022-07-23T09:56:15.313Z"
   },
   {
    "duration": 3,
    "start_time": "2022-07-23T09:56:16.385Z"
   },
   {
    "duration": 88,
    "start_time": "2022-07-23T09:56:16.390Z"
   },
   {
    "duration": 68,
    "start_time": "2022-07-23T09:56:16.480Z"
   },
   {
    "duration": 8,
    "start_time": "2022-07-23T09:56:16.550Z"
   },
   {
    "duration": 15,
    "start_time": "2022-07-23T09:56:16.560Z"
   },
   {
    "duration": 4068,
    "start_time": "2022-07-23T09:56:16.576Z"
   },
   {
    "duration": 5,
    "start_time": "2022-07-23T09:56:20.645Z"
   },
   {
    "duration": 17,
    "start_time": "2022-07-23T09:56:20.651Z"
   },
   {
    "duration": 24,
    "start_time": "2022-07-23T09:56:20.669Z"
   },
   {
    "duration": 4789,
    "start_time": "2022-07-23T09:56:20.695Z"
   },
   {
    "duration": 2412,
    "start_time": "2022-07-23T09:56:25.486Z"
   },
   {
    "duration": 6840,
    "start_time": "2022-07-23T09:56:27.900Z"
   },
   {
    "duration": 214,
    "start_time": "2022-07-23T09:56:34.742Z"
   },
   {
    "duration": 9,
    "start_time": "2022-07-23T09:56:34.958Z"
   },
   {
    "duration": 9,
    "start_time": "2022-07-23T09:56:34.970Z"
   },
   {
    "duration": 16,
    "start_time": "2022-07-23T09:56:35.010Z"
   },
   {
    "duration": 1357,
    "start_time": "2022-07-23T19:40:07.673Z"
   },
   {
    "duration": 77,
    "start_time": "2022-07-23T19:40:09.032Z"
   },
   {
    "duration": 17,
    "start_time": "2022-07-23T19:40:09.111Z"
   },
   {
    "duration": 7,
    "start_time": "2022-07-23T19:40:09.130Z"
   },
   {
    "duration": 13,
    "start_time": "2022-07-23T19:40:09.139Z"
   },
   {
    "duration": 10,
    "start_time": "2022-07-23T19:40:09.154Z"
   },
   {
    "duration": 55,
    "start_time": "2022-07-23T19:40:09.166Z"
   },
   {
    "duration": 6,
    "start_time": "2022-07-23T19:40:09.223Z"
   },
   {
    "duration": 2425,
    "start_time": "2022-07-23T19:40:09.231Z"
   },
   {
    "duration": 496,
    "start_time": "2022-07-23T19:40:11.659Z"
   },
   {
    "duration": 4210,
    "start_time": "2022-07-23T19:40:12.157Z"
   },
   {
    "duration": 110,
    "start_time": "2022-07-23T19:40:16.369Z"
   },
   {
    "duration": 1050,
    "start_time": "2022-07-23T19:40:16.481Z"
   },
   {
    "duration": 3,
    "start_time": "2022-07-23T19:40:17.532Z"
   },
   {
    "duration": 75,
    "start_time": "2022-07-23T19:40:17.536Z"
   },
   {
    "duration": 57,
    "start_time": "2022-07-23T19:40:17.613Z"
   },
   {
    "duration": 6,
    "start_time": "2022-07-23T19:40:17.672Z"
   },
   {
    "duration": 30,
    "start_time": "2022-07-23T19:40:17.680Z"
   },
   {
    "duration": 3608,
    "start_time": "2022-07-23T19:40:17.712Z"
   },
   {
    "duration": 5,
    "start_time": "2022-07-23T19:40:21.322Z"
   },
   {
    "duration": 18,
    "start_time": "2022-07-23T19:40:21.329Z"
   },
   {
    "duration": 14,
    "start_time": "2022-07-23T19:40:21.348Z"
   },
   {
    "duration": 4576,
    "start_time": "2022-07-23T19:40:21.363Z"
   },
   {
    "duration": 2732,
    "start_time": "2022-07-23T19:40:25.941Z"
   },
   {
    "duration": 7018,
    "start_time": "2022-07-23T19:40:28.674Z"
   },
   {
    "duration": 234,
    "start_time": "2022-07-23T19:40:35.694Z"
   },
   {
    "duration": 10,
    "start_time": "2022-07-23T19:40:35.930Z"
   },
   {
    "duration": 10,
    "start_time": "2022-07-23T19:40:35.943Z"
   },
   {
    "duration": 10,
    "start_time": "2022-07-23T19:40:35.955Z"
   },
   {
    "duration": 9,
    "start_time": "2022-07-24T01:53:13.151Z"
   },
   {
    "duration": 40,
    "start_time": "2022-07-24T01:53:15.153Z"
   },
   {
    "duration": 7,
    "start_time": "2022-07-24T01:53:24.176Z"
   },
   {
    "duration": 1307,
    "start_time": "2022-07-24T01:53:26.112Z"
   },
   {
    "duration": 75,
    "start_time": "2022-07-24T01:53:28.760Z"
   },
   {
    "duration": 3,
    "start_time": "2022-07-24T01:53:34.872Z"
   },
   {
    "duration": 4,
    "start_time": "2022-07-24T01:53:37.608Z"
   },
   {
    "duration": 29,
    "start_time": "2022-07-24T01:53:39.376Z"
   },
   {
    "duration": 2,
    "start_time": "2022-07-24T01:55:34.970Z"
   },
   {
    "duration": 56,
    "start_time": "2022-07-24T01:55:35.834Z"
   },
   {
    "duration": 57,
    "start_time": "2022-07-24T01:55:37.232Z"
   },
   {
    "duration": 7,
    "start_time": "2022-07-24T01:55:40.632Z"
   },
   {
    "duration": 5,
    "start_time": "2022-07-24T01:55:50.338Z"
   },
   {
    "duration": 4,
    "start_time": "2022-07-24T01:55:56.402Z"
   },
   {
    "duration": 4,
    "start_time": "2022-07-24T01:56:12.394Z"
   },
   {
    "duration": 3,
    "start_time": "2022-07-24T01:56:35.658Z"
   },
   {
    "duration": 4,
    "start_time": "2022-07-24T01:56:50.442Z"
   },
   {
    "duration": 19,
    "start_time": "2022-07-24T01:58:40.769Z"
   },
   {
    "duration": 12,
    "start_time": "2022-07-24T01:59:15.667Z"
   },
   {
    "duration": 95,
    "start_time": "2022-07-24T02:01:59.705Z"
   },
   {
    "duration": 19,
    "start_time": "2022-07-24T02:05:24.457Z"
   },
   {
    "duration": 29,
    "start_time": "2022-07-24T02:05:38.682Z"
   },
   {
    "duration": 15,
    "start_time": "2022-07-24T02:05:55.435Z"
   },
   {
    "duration": 31,
    "start_time": "2022-07-24T02:06:05.097Z"
   },
   {
    "duration": 14,
    "start_time": "2022-07-24T02:06:22.529Z"
   },
   {
    "duration": 18,
    "start_time": "2022-07-24T02:06:27.450Z"
   },
   {
    "duration": 30,
    "start_time": "2022-07-24T02:06:45.122Z"
   },
   {
    "duration": 33,
    "start_time": "2022-07-24T02:06:56.595Z"
   },
   {
    "duration": 28,
    "start_time": "2022-07-24T02:07:09.538Z"
   },
   {
    "duration": 18,
    "start_time": "2022-07-24T02:08:32.411Z"
   },
   {
    "duration": 15285,
    "start_time": "2022-07-24T02:08:36.099Z"
   },
   {
    "duration": 20,
    "start_time": "2022-07-24T02:09:05.706Z"
   },
   {
    "duration": 30,
    "start_time": "2022-07-24T02:09:08.135Z"
   },
   {
    "duration": 30,
    "start_time": "2022-07-24T02:09:29.603Z"
   },
   {
    "duration": 23,
    "start_time": "2022-07-24T02:09:35.506Z"
   },
   {
    "duration": 28,
    "start_time": "2022-07-24T02:09:42.761Z"
   },
   {
    "duration": 28,
    "start_time": "2022-07-24T02:09:49.201Z"
   },
   {
    "duration": 29,
    "start_time": "2022-07-24T02:09:58.786Z"
   },
   {
    "duration": 32,
    "start_time": "2022-07-24T02:10:59.345Z"
   },
   {
    "duration": 32,
    "start_time": "2022-07-24T02:11:13.562Z"
   },
   {
    "duration": 50,
    "start_time": "2022-07-24T02:11:36.673Z"
   },
   {
    "duration": 39,
    "start_time": "2022-07-24T02:11:45.433Z"
   },
   {
    "duration": 32,
    "start_time": "2022-07-24T02:11:49.217Z"
   },
   {
    "duration": 45,
    "start_time": "2022-07-24T02:12:55.507Z"
   },
   {
    "duration": 1185,
    "start_time": "2022-07-24T11:15:23.775Z"
   },
   {
    "duration": 86,
    "start_time": "2022-07-24T11:15:25.842Z"
   },
   {
    "duration": 15,
    "start_time": "2022-07-24T11:15:27.853Z"
   },
   {
    "duration": 4,
    "start_time": "2022-07-24T11:15:29.773Z"
   },
   {
    "duration": 11,
    "start_time": "2022-07-24T11:15:30.693Z"
   },
   {
    "duration": 4,
    "start_time": "2022-07-24T11:15:33.588Z"
   },
   {
    "duration": 37,
    "start_time": "2022-07-24T11:15:35.638Z"
   },
   {
    "duration": 6,
    "start_time": "2022-07-24T11:15:40.596Z"
   },
   {
    "duration": 13315,
    "start_time": "2022-07-24T11:15:54.040Z"
   },
   {
    "duration": 13671,
    "start_time": "2022-07-24T11:16:16.210Z"
   },
   {
    "duration": 4,
    "start_time": "2022-07-24T11:18:28.885Z"
   },
   {
    "duration": 57,
    "start_time": "2022-07-24T11:18:30.100Z"
   },
   {
    "duration": 4,
    "start_time": "2022-07-24T11:18:33.460Z"
   },
   {
    "duration": 11,
    "start_time": "2022-07-24T11:18:34.480Z"
   },
   {
    "duration": 4,
    "start_time": "2022-07-24T11:18:36.838Z"
   },
   {
    "duration": 31,
    "start_time": "2022-07-24T11:18:37.572Z"
   },
   {
    "duration": 7,
    "start_time": "2022-07-24T11:18:41.868Z"
   },
   {
    "duration": 13004,
    "start_time": "2022-07-24T11:18:43.938Z"
   },
   {
    "duration": 578,
    "start_time": "2022-07-24T11:20:06.632Z"
   },
   {
    "duration": 8636,
    "start_time": "2022-07-24T12:05:31.629Z"
   },
   {
    "duration": 3,
    "start_time": "2022-07-24T12:06:26.893Z"
   },
   {
    "duration": 73,
    "start_time": "2022-07-24T12:06:28.389Z"
   },
   {
    "duration": 58,
    "start_time": "2022-07-24T12:06:30.626Z"
   },
   {
    "duration": 9,
    "start_time": "2022-07-24T12:06:32.709Z"
   },
   {
    "duration": 4,
    "start_time": "2022-07-24T12:06:33.902Z"
   },
   {
    "duration": 46,
    "start_time": "2022-07-24T12:06:35.045Z"
   },
   {
    "duration": 3798,
    "start_time": "2022-07-24T12:07:09.557Z"
   },
   {
    "duration": 24,
    "start_time": "2022-07-24T12:07:50.005Z"
   },
   {
    "duration": 1417,
    "start_time": "2022-07-24T12:11:56.354Z"
   },
   {
    "duration": 2947,
    "start_time": "2022-07-24T12:12:05.453Z"
   },
   {
    "duration": 18,
    "start_time": "2022-07-24T12:12:14.630Z"
   },
   {
    "duration": 2278,
    "start_time": "2022-07-24T12:13:10.189Z"
   },
   {
    "duration": 2106,
    "start_time": "2022-07-24T12:14:26.701Z"
   },
   {
    "duration": 2143,
    "start_time": "2022-07-24T12:14:33.182Z"
   },
   {
    "duration": 2114,
    "start_time": "2022-07-24T12:14:41.404Z"
   },
   {
    "duration": 2138,
    "start_time": "2022-07-24T12:14:48.484Z"
   },
   {
    "duration": 2220,
    "start_time": "2022-07-24T12:15:17.741Z"
   },
   {
    "duration": 2350,
    "start_time": "2022-07-24T12:15:26.038Z"
   },
   {
    "duration": 11296,
    "start_time": "2022-07-24T13:00:09.984Z"
   },
   {
    "duration": 28235,
    "start_time": "2022-07-24T13:05:12.423Z"
   },
   {
    "duration": 27683,
    "start_time": "2022-07-24T13:06:30.778Z"
   },
   {
    "duration": 964,
    "start_time": "2022-07-24T13:07:28.761Z"
   },
   {
    "duration": 27572,
    "start_time": "2022-07-24T13:08:01.641Z"
   },
   {
    "duration": 28828,
    "start_time": "2022-07-24T13:09:51.370Z"
   },
   {
    "duration": 8853,
    "start_time": "2022-07-24T13:15:53.790Z"
   },
   {
    "duration": 27463,
    "start_time": "2022-07-24T13:29:54.919Z"
   },
   {
    "duration": 29474,
    "start_time": "2022-07-24T13:33:44.088Z"
   },
   {
    "duration": 6,
    "start_time": "2022-07-24T13:39:17.607Z"
   },
   {
    "duration": 17,
    "start_time": "2022-07-24T13:39:19.193Z"
   },
   {
    "duration": 13,
    "start_time": "2022-07-24T13:39:25.462Z"
   },
   {
    "duration": 27859,
    "start_time": "2022-07-24T13:43:31.920Z"
   },
   {
    "duration": 2350,
    "start_time": "2022-07-24T13:45:18.464Z"
   },
   {
    "duration": 1560,
    "start_time": "2022-07-24T13:45:33.147Z"
   },
   {
    "duration": 1399,
    "start_time": "2022-07-24T13:46:04.577Z"
   },
   {
    "duration": 4218,
    "start_time": "2022-07-24T13:46:27.952Z"
   },
   {
    "duration": 2361,
    "start_time": "2022-07-24T13:46:41.695Z"
   },
   {
    "duration": 3,
    "start_time": "2022-07-24T14:53:08.389Z"
   },
   {
    "duration": 26340,
    "start_time": "2022-07-24T14:53:35.805Z"
   },
   {
    "duration": 29,
    "start_time": "2022-07-24T15:05:11.226Z"
   },
   {
    "duration": 25485,
    "start_time": "2022-07-24T15:40:00.419Z"
   },
   {
    "duration": 4,
    "start_time": "2022-07-24T15:58:08.563Z"
   },
   {
    "duration": 42,
    "start_time": "2022-07-24T15:58:08.569Z"
   },
   {
    "duration": 11,
    "start_time": "2022-07-24T15:58:08.613Z"
   },
   {
    "duration": 23,
    "start_time": "2022-07-24T15:58:08.627Z"
   },
   {
    "duration": 15,
    "start_time": "2022-07-24T15:58:08.652Z"
   },
   {
    "duration": 10,
    "start_time": "2022-07-24T15:58:08.669Z"
   },
   {
    "duration": 38,
    "start_time": "2022-07-24T15:58:08.680Z"
   },
   {
    "duration": 7,
    "start_time": "2022-07-24T15:58:08.719Z"
   },
   {
    "duration": 12622,
    "start_time": "2022-07-24T15:58:08.727Z"
   },
   {
    "duration": 579,
    "start_time": "2022-07-24T15:58:21.353Z"
   },
   {
    "duration": 521,
    "start_time": "2022-07-24T15:58:21.934Z"
   },
   {
    "duration": 8033,
    "start_time": "2022-07-24T15:58:22.457Z"
   },
   {
    "duration": 465,
    "start_time": "2022-07-24T15:58:30.492Z"
   },
   {
    "duration": 1117,
    "start_time": "2022-07-24T15:58:30.959Z"
   },
   {
    "duration": 3,
    "start_time": "2022-07-24T15:58:32.078Z"
   },
   {
    "duration": 71,
    "start_time": "2022-07-24T15:58:32.082Z"
   },
   {
    "duration": 63,
    "start_time": "2022-07-24T15:58:32.155Z"
   },
   {
    "duration": 7,
    "start_time": "2022-07-24T15:58:32.220Z"
   },
   {
    "duration": 13,
    "start_time": "2022-07-24T15:58:32.228Z"
   },
   {
    "duration": 26916,
    "start_time": "2022-07-24T15:58:32.242Z"
   },
   {
    "duration": 12,
    "start_time": "2022-07-24T15:58:59.159Z"
   },
   {
    "duration": 28730,
    "start_time": "2022-07-24T15:58:59.173Z"
   },
   {
    "duration": 7,
    "start_time": "2022-07-24T15:59:27.905Z"
   },
   {
    "duration": 33,
    "start_time": "2022-07-24T15:59:27.914Z"
   },
   {
    "duration": 29,
    "start_time": "2022-07-24T15:59:27.949Z"
   },
   {
    "duration": 25738,
    "start_time": "2022-07-24T15:59:27.979Z"
   },
   {
    "duration": 3632,
    "start_time": "2022-07-24T15:59:53.719Z"
   },
   {
    "duration": 7363,
    "start_time": "2022-07-24T15:59:57.354Z"
   },
   {
    "duration": 225,
    "start_time": "2022-07-24T16:00:04.719Z"
   },
   {
    "duration": 11,
    "start_time": "2022-07-24T16:00:04.947Z"
   },
   {
    "duration": 23,
    "start_time": "2022-07-24T16:00:04.960Z"
   },
   {
    "duration": 59,
    "start_time": "2022-07-24T16:00:04.985Z"
   },
   {
    "duration": 1260,
    "start_time": "2022-07-25T22:28:56.002Z"
   },
   {
    "duration": 79,
    "start_time": "2022-07-25T22:28:59.705Z"
   },
   {
    "duration": 5,
    "start_time": "2022-07-25T22:29:12.646Z"
   },
   {
    "duration": 48,
    "start_time": "2022-07-25T22:29:35.881Z"
   },
   {
    "duration": 10902,
    "start_time": "2022-07-25T22:30:12.486Z"
   },
   {
    "duration": 10672,
    "start_time": "2022-07-25T22:30:48.209Z"
   },
   {
    "duration": 11276,
    "start_time": "2022-07-25T22:31:14.088Z"
   },
   {
    "duration": 8486,
    "start_time": "2022-07-25T22:32:03.481Z"
   },
   {
    "duration": 8375,
    "start_time": "2022-07-25T22:34:17.262Z"
   },
   {
    "duration": 5221,
    "start_time": "2022-07-25T22:35:03.425Z"
   },
   {
    "duration": 3,
    "start_time": "2022-07-25T22:38:13.622Z"
   },
   {
    "duration": 56,
    "start_time": "2022-07-25T22:38:15.089Z"
   },
   {
    "duration": 56,
    "start_time": "2022-07-25T22:38:16.234Z"
   },
   {
    "duration": 8,
    "start_time": "2022-07-25T22:38:18.497Z"
   },
   {
    "duration": 3,
    "start_time": "2022-07-25T22:38:19.273Z"
   },
   {
    "duration": 15603,
    "start_time": "2022-07-25T22:38:20.225Z"
   },
   {
    "duration": 17388,
    "start_time": "2022-07-25T22:39:05.189Z"
   },
   {
    "duration": 5,
    "start_time": "2022-07-25T22:39:43.741Z"
   },
   {
    "duration": 14,
    "start_time": "2022-07-25T22:39:45.228Z"
   },
   {
    "duration": 12379,
    "start_time": "2022-07-25T22:39:57.893Z"
   },
   {
    "duration": 1264,
    "start_time": "2022-07-26T02:35:42.638Z"
   },
   {
    "duration": 79,
    "start_time": "2022-07-26T02:35:45.108Z"
   },
   {
    "duration": 3,
    "start_time": "2022-07-26T02:35:47.332Z"
   },
   {
    "duration": 8132,
    "start_time": "2022-07-26T02:35:55.500Z"
   },
   {
    "duration": 3442,
    "start_time": "2022-07-26T02:38:13.250Z"
   },
   {
    "duration": 3059,
    "start_time": "2022-07-26T02:48:05.366Z"
   },
   {
    "duration": 54,
    "start_time": "2022-07-26T02:50:01.278Z"
   },
   {
    "duration": 1462,
    "start_time": "2022-07-26T06:08:58.514Z"
   },
   {
    "duration": 91,
    "start_time": "2022-07-26T06:08:59.978Z"
   },
   {
    "duration": 16,
    "start_time": "2022-07-26T06:09:00.071Z"
   },
   {
    "duration": 8,
    "start_time": "2022-07-26T06:09:00.089Z"
   },
   {
    "duration": 18,
    "start_time": "2022-07-26T06:09:00.099Z"
   },
   {
    "duration": 17,
    "start_time": "2022-07-26T06:09:00.118Z"
   },
   {
    "duration": 36,
    "start_time": "2022-07-26T06:09:00.137Z"
   },
   {
    "duration": 6,
    "start_time": "2022-07-26T06:09:00.175Z"
   },
   {
    "duration": 9267,
    "start_time": "2022-07-26T06:09:00.183Z"
   },
   {
    "duration": 1022,
    "start_time": "2022-07-26T06:09:09.451Z"
   },
   {
    "duration": 609,
    "start_time": "2022-07-26T06:09:10.474Z"
   },
   {
    "duration": 5290,
    "start_time": "2022-07-26T06:09:11.085Z"
   },
   {
    "duration": 127,
    "start_time": "2022-07-26T06:09:16.377Z"
   },
   {
    "duration": 3893,
    "start_time": "2022-07-26T06:09:16.507Z"
   },
   {
    "duration": 1253,
    "start_time": "2022-07-26T06:09:20.401Z"
   },
   {
    "duration": 3,
    "start_time": "2022-07-26T06:09:21.656Z"
   },
   {
    "duration": 78,
    "start_time": "2022-07-26T06:09:21.661Z"
   },
   {
    "duration": 61,
    "start_time": "2022-07-26T06:09:21.740Z"
   },
   {
    "duration": 39,
    "start_time": "2022-07-26T06:09:21.802Z"
   },
   {
    "duration": 8,
    "start_time": "2022-07-26T06:09:21.843Z"
   },
   {
    "duration": 16001,
    "start_time": "2022-07-26T06:09:21.853Z"
   },
   {
    "duration": 12,
    "start_time": "2022-07-26T06:09:37.856Z"
   },
   {
    "duration": 20467,
    "start_time": "2022-07-26T06:09:37.870Z"
   },
   {
    "duration": 6,
    "start_time": "2022-07-26T06:09:58.339Z"
   },
   {
    "duration": 22,
    "start_time": "2022-07-26T06:09:58.346Z"
   },
   {
    "duration": 20,
    "start_time": "2022-07-26T06:09:58.369Z"
   },
   {
    "duration": 15364,
    "start_time": "2022-07-26T06:09:58.390Z"
   },
   {
    "duration": 2930,
    "start_time": "2022-07-26T06:10:13.755Z"
   },
   {
    "duration": 10065,
    "start_time": "2022-07-26T06:10:16.687Z"
   },
   {
    "duration": 231,
    "start_time": "2022-07-26T06:10:26.754Z"
   },
   {
    "duration": 10,
    "start_time": "2022-07-26T06:10:26.986Z"
   },
   {
    "duration": 38,
    "start_time": "2022-07-26T06:10:26.997Z"
   },
   {
    "duration": 32,
    "start_time": "2022-07-26T06:10:27.037Z"
   },
   {
    "duration": 1354,
    "start_time": "2022-07-26T08:58:00.561Z"
   },
   {
    "duration": 85,
    "start_time": "2022-07-26T08:58:01.918Z"
   },
   {
    "duration": 15,
    "start_time": "2022-07-26T08:58:02.004Z"
   },
   {
    "duration": 3,
    "start_time": "2022-07-26T08:58:02.021Z"
   },
   {
    "duration": 25,
    "start_time": "2022-07-26T08:58:02.026Z"
   },
   {
    "duration": 15,
    "start_time": "2022-07-26T08:58:02.053Z"
   },
   {
    "duration": 39,
    "start_time": "2022-07-26T08:58:02.069Z"
   },
   {
    "duration": 6,
    "start_time": "2022-07-26T08:58:02.109Z"
   },
   {
    "duration": 8375,
    "start_time": "2022-07-26T08:58:02.116Z"
   },
   {
    "duration": 982,
    "start_time": "2022-07-26T08:58:10.494Z"
   },
   {
    "duration": 527,
    "start_time": "2022-07-26T08:58:11.477Z"
   },
   {
    "duration": 4761,
    "start_time": "2022-07-26T08:58:12.006Z"
   },
   {
    "duration": 105,
    "start_time": "2022-07-26T08:58:16.769Z"
   },
   {
    "duration": 3312,
    "start_time": "2022-07-26T08:58:16.876Z"
   },
   {
    "duration": 1095,
    "start_time": "2022-07-26T08:58:20.190Z"
   },
   {
    "duration": 3,
    "start_time": "2022-07-26T08:58:21.287Z"
   },
   {
    "duration": 83,
    "start_time": "2022-07-26T08:58:21.291Z"
   },
   {
    "duration": 86,
    "start_time": "2022-07-26T08:58:21.376Z"
   },
   {
    "duration": 13,
    "start_time": "2022-07-26T08:58:21.464Z"
   },
   {
    "duration": 4,
    "start_time": "2022-07-26T08:58:21.479Z"
   },
   {
    "duration": 15418,
    "start_time": "2022-07-26T08:58:21.485Z"
   },
   {
    "duration": 11,
    "start_time": "2022-07-26T08:58:36.905Z"
   },
   {
    "duration": 19814,
    "start_time": "2022-07-26T08:58:36.918Z"
   },
   {
    "duration": 17,
    "start_time": "2022-07-26T08:58:56.734Z"
   },
   {
    "duration": 21,
    "start_time": "2022-07-26T08:58:56.754Z"
   },
   {
    "duration": 13,
    "start_time": "2022-07-26T08:58:56.777Z"
   },
   {
    "duration": 14037,
    "start_time": "2022-07-26T08:58:56.792Z"
   },
   {
    "duration": 2633,
    "start_time": "2022-07-26T08:59:10.836Z"
   },
   {
    "duration": 9276,
    "start_time": "2022-07-26T08:59:13.471Z"
   },
   {
    "duration": 224,
    "start_time": "2022-07-26T08:59:22.748Z"
   },
   {
    "duration": 10,
    "start_time": "2022-07-26T08:59:22.973Z"
   },
   {
    "duration": 10,
    "start_time": "2022-07-26T08:59:22.984Z"
   },
   {
    "duration": 57,
    "start_time": "2022-07-26T08:59:22.995Z"
   }
  ],
  "kernelspec": {
   "display_name": "Python 3 (ipykernel)",
   "language": "python",
   "name": "python3"
  },
  "language_info": {
   "codemirror_mode": {
    "name": "ipython",
    "version": 3
   },
   "file_extension": ".py",
   "mimetype": "text/x-python",
   "name": "python",
   "nbconvert_exporter": "python",
   "pygments_lexer": "ipython3",
   "version": "3.9.5"
  },
  "toc": {
   "base_numbering": 1,
   "nav_menu": {},
   "number_sections": true,
   "sideBar": true,
   "skip_h1_title": true,
   "title_cell": "Table of Contents",
   "title_sidebar": "Contents",
   "toc_cell": false,
   "toc_position": {},
   "toc_section_display": true,
   "toc_window_display": false
  }
 },
 "nbformat": 4,
 "nbformat_minor": 2
}
